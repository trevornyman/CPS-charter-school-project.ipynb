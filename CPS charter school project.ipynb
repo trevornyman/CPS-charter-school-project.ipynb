{
 "cells": [
  {
   "cell_type": "markdown",
   "metadata": {},
   "source": [
    "## CPS Charter School Project\n",
    "\n",
    "In this project I'll use some data available on Chicago public schools to understand how top-performing charter high schools are geographically distributed throughout the city.  Since proximity is a major factor in selecting a school, it might be the case that the current distribution of top-performing high schools puts additional constraints on Chicago families' school choices.\n",
    "\n",
    "First, let's collect and read in some data from the City of Chicago's open portal."
   ]
  },
  {
   "cell_type": "code",
   "execution_count": 1,
   "metadata": {
    "collapsed": false
   },
   "outputs": [
    {
     "name": "stdout",
     "output_type": "stream",
     "text": [
      "\n",
      "Chicago_Public_Schools_-_School_Progress_Reports_SY1516\n",
      "\n",
      "   School_ID                 Short_Name  \\\n",
      "0     400009         GLOBAL CITIZENSHIP   \n",
      "1     400010                ACE TECH HS   \n",
      "2     400011                    LOCKE A   \n",
      "3     400013  ASPIRA - EARLY COLLEGE HS   \n",
      "4     400017            ASPIRA - HAUGAN   \n",
      "\n",
      "                                           Long_Name School_Type  \\\n",
      "0      Academy for Global Citizenship Charter School     Charter   \n",
      "1                       ACE Technical Charter School     Charter   \n",
      "2                         Alain Locke Charter School     Charter   \n",
      "3  ASPIRA Charter School - Early College High School     Charter   \n",
      "4       ASPIRA Charter School - Haugan Middle School     Charter   \n",
      "\n",
      "  Primary_Category              Address     City     State    Zip  \\\n",
      "0               ES       4647 W 47TH ST  Chicago  Illinois  60632   \n",
      "1               HS      5410 S STATE ST  Chicago  Illinois  60609   \n",
      "2               ES  3141 W JACKSON BLVD  Chicago  Illinois  60612   \n",
      "3               HS     3986 W BARRY AVE  Chicago  Illinois  60618   \n",
      "4               MS    3729 W LELAND AVE  Chicago  Illinois  60625   \n",
      "\n",
      "          Phone                        ...                          \\\n",
      "0  7.735821e+09                        ...                           \n",
      "1  7.735489e+09                        ...                           \n",
      "2  7.732657e+09                        ...                           \n",
      "3  7.732521e+09                        ...                           \n",
      "4  7.732521e+09                        ...                           \n",
      "\n",
      "   Mobility_Rate_Pct Chronic_Truancy_Pct  \\\n",
      "0                4.3                 NaN   \n",
      "1               27.3                 NaN   \n",
      "2                4.7                 NaN   \n",
      "3                NaN                 NaN   \n",
      "4                NaN                 NaN   \n",
      "\n",
      "                       Empty_Progress_Report_Message  \\\n",
      "0  This School Progress Report is currently under...   \n",
      "1  This School Progress Report is currently under...   \n",
      "2  This School Progress Report is currently under...   \n",
      "3  This School Progress Report is currently under...   \n",
      "4  This School Progress Report is currently under...   \n",
      "\n",
      "                    School_Survey_Rating_Description  Supportive_School_Award  \\\n",
      "0  This school does not have enough data availabl...                NOT RATED   \n",
      "1  This school is “Partially Organized for Improv...                NOT RATED   \n",
      "2  This school does not have enough data availabl...                NOT RATED   \n",
      "3  This school is “Not Yet Organized for Improvem...                NOT RATED   \n",
      "4  This school is “Organized for Improvement” whi...                NOT RATED   \n",
      "\n",
      "                        Supportive_School_Award_Desc  \\\n",
      "0  This school is in the process of being reviewe...   \n",
      "1  This school is in the process of being reviewe...   \n",
      "2  This school is in the process of being reviewe...   \n",
      "3  This school is in the process of being reviewe...   \n",
      "4  This school is in the process of being reviewe...   \n",
      "\n",
      "   Parent_Survey_Results_Year  School_Latitude  School_Longitude  \\\n",
      "0                      2015.0        41.807579        -87.740097   \n",
      "1                      2015.0        41.796122        -87.625849   \n",
      "2                      2015.0        41.877248        -87.705235   \n",
      "3                      2015.0        41.937298        -87.727096   \n",
      "4                      2015.0        41.966406        -87.721825   \n",
      "\n",
      "                                            Location  \n",
      "0  4647 W 47TH ST\\nChicago, Illinois 60632\\n(41.8...  \n",
      "1  5410 S STATE ST\\nChicago, Illinois 60609\\n(41....  \n",
      "2  3141 W JACKSON BLVD\\nChicago, Illinois 60612\\n...  \n",
      "3  3986 W BARRY AVE\\nChicago, Illinois 60618\\n(41...  \n",
      "4  3729 W LELAND AVE\\nChicago, Illinois 60625\\n(4...  \n",
      "\n",
      "[5 rows x 153 columns]\n",
      "\n",
      "Chicago_Public_Schools_-_School_Profile_Information_SY1617\n",
      "\n",
      "   School_ID  Legacy_Unit_ID  Finance_ID                     Short_Name  \\\n",
      "0     400051            1930       66141               NOBLE - NOBLE HS   \n",
      "1     610566            9631       65011  MAGIC JOHNSON - N LAWNDALE HS   \n",
      "2     610557            8687       65018          PATHWAYS - ASHBURN HS   \n",
      "3     610066            4750       29181                         MCDADE   \n",
      "4     610402            6990       46521                       DEVRY HS   \n",
      "\n",
      "                                    Long_Name      School_Type  \\\n",
      "0                  Noble - Noble College Prep          Charter   \n",
      "1            Magic Johnson- North Lawndale HS  Citywide-Option   \n",
      "2              Pathways in Education- Ashburn  Citywide-Option   \n",
      "3  James E McDade Elementary Classical School        Classical   \n",
      "4       DeVry University Advantage Academy HS           Magnet   \n",
      "\n",
      "  Primary_Category Is_High_School Is_Middle_School Is_Elementary_School  \\\n",
      "0               HS              Y              NaN                  NaN   \n",
      "1               HS              Y              NaN                  NaN   \n",
      "2               HS              Y              NaN                  NaN   \n",
      "3               ES            NaN              NaN                    Y   \n",
      "4               HS              Y              NaN                  NaN   \n",
      "\n",
      "                         ...                         Third_Contact_Name  \\\n",
      "0                        ...                                        NaN   \n",
      "1                        ...                                        NaN   \n",
      "2                        ...                                        NaN   \n",
      "3                        ...                                        NaN   \n",
      "4                        ...                                 Tina Drake   \n",
      "\n",
      "  Fourth_Contact_Title Fourth_Contact_Name Fifth_Contact_Title  \\\n",
      "0                  NaN                 NaN                 NaN   \n",
      "1                  NaN                 NaN                 NaN   \n",
      "2                  NaN                 NaN                 NaN   \n",
      "3                  NaN                 NaN                 NaN   \n",
      "4                  NaN                 NaN                 NaN   \n",
      "\n",
      "  Fifth_Contact_Name Sixth_Contact_Title Sixth_Contact_Name  \\\n",
      "0                NaN                 NaN                NaN   \n",
      "1                NaN                 NaN                NaN   \n",
      "2                NaN                 NaN                NaN   \n",
      "3                NaN                 NaN                NaN   \n",
      "4                NaN                 NaN                NaN   \n",
      "\n",
      "  Seventh_Contact_Title Seventh_Contact_Name  \\\n",
      "0                   NaN                  NaN   \n",
      "1                   NaN                  NaN   \n",
      "2                   NaN                  NaN   \n",
      "3                   NaN                  NaN   \n",
      "4                   NaN                  NaN   \n",
      "\n",
      "                                            Location  \n",
      "0  1010 N NOBLE ST\\nChicago, Illinois 60622\\n(41....  \n",
      "1  3222 W ROOSEVELT RD\\nChicago, Illinois 60624\\n...  \n",
      "2  3284 W 87TH ST\\nChicago, Illinois 60652\\n(41.7...  \n",
      "3  8801 S INDIANA AVE\\nChicago, Illinois 60619\\n(...  \n",
      "4  3300 N CAMPBELL AVE\\nChicago, Illinois 60618\\n...  \n",
      "\n",
      "[5 rows x 91 columns]\n"
     ]
    }
   ],
   "source": [
    "import pandas as pd\n",
    "import numpy as np\n",
    "\n",
    "files = ['/Users/trevornyman/downloads/Chicago_Public_Schools_-_School_Profile_Information_SY1617.csv', \n",
    "         '/Users/trevornyman/downloads/Chicago_Public_Schools_-_School_Progress_Reports_SY1516.csv']\n",
    "\n",
    "#initialize a dictionary that will, eventually, include the file name for the key and the file as dataframe as the value\n",
    "data = {}\n",
    "\n",
    "#loop through the files I've downloaded\n",
    "for f in files:\n",
    "    \n",
    "    #assign to variable the file read in as a data frame\n",
    "    d = pd.read_csv(f)\n",
    "    \n",
    "    #add the data frame, d, as the value of the dictionary with the file name minus the \".csv\" as the key.\n",
    "    data[f.replace(\".csv\", \"\")] = d\n",
    "    \n",
    "\n",
    "#loop through the dictionary containing all the dataframes\n",
    "for k,v in data.items():\n",
    "    \n",
    "    #print the key (less the beginning portion of the path)\n",
    "    print(\"\\n\" + k.replace(\"/Users/trevornyman/downloads/\", \"\") + \"\\n\")\n",
    "    \n",
    "    #print the head of the dataframes\n",
    "    print(v.head())"
   ]
  },
  {
   "cell_type": "markdown",
   "metadata": {},
   "source": [
    "I pulled in two data sets, one with profile info on each school, and the second is the most recent progress report available, SY 15/16.  \n",
    "\n",
    "## Combine the data sets\n",
    "\n",
    "Now we'll combine the two data sets into one which will make for easier analysis.  To do this, we'll exploit that each data set includes a School_ID column, which acts as a unique identifier for each CPS school."
   ]
  },
  {
   "cell_type": "code",
   "execution_count": 2,
   "metadata": {
    "collapsed": false
   },
   "outputs": [
    {
     "name": "stdout",
     "output_type": "stream",
     "text": [
      "/Users/trevornyman/downloads/Chicago_Public_Schools_-_School_Profile_Information_SY1617\n",
      "0\n",
      "Number of CPS schools: 670\n"
     ]
    }
   ],
   "source": [
    "\n",
    "flat_data_names = [k for k,v in data.items()]\n",
    "flat_data = [data[k] for k in flat_data_names]\n",
    "full = flat_data[0]\n",
    "for i, f in enumerate(flat_data[1:]):\n",
    "    name = flat_data_names[i+1]\n",
    "    print(name)\n",
    "    print(len(f[\"School_ID\"]) - len(f[\"School_ID\"].unique()))\n",
    "    join_type = \"inner\"\n",
    "    #if name in [\"sat_results\", \"ap_2010\", \"graduation\"]:\n",
    "        #join_type = \"outer\"\n",
    "    #if name not in [\"math_test_results\"]:\n",
    "    full = full.merge(f, on=\"School_ID\", how=join_type)\n",
    "\n",
    "full.shape\n",
    "print (\"Number of CPS schools:\", len(full))"
   ]
  },
  {
   "cell_type": "markdown",
   "metadata": {},
   "source": [
    "We can see from the above print statement that our dataframe includes information on 670 CPS schools.  Here is a list of all the columns in our full dataframe.  As you can see, we've got a lot from which to choose; around 240 columns."
   ]
  },
  {
   "cell_type": "code",
   "execution_count": 3,
   "metadata": {
    "collapsed": false
   },
   "outputs": [
    {
     "name": "stdout",
     "output_type": "stream",
     "text": [
      "['School_ID', 'Short_Name_x', 'Long_Name_x', 'School_Type_x', 'Primary_Category_x', 'Address_x', 'City_x', 'State_x', 'Zip_x', 'Phone_x', 'Fax_x', 'CPS_School_Profile_x', 'Website_x', 'Progress_Report_Year', 'Blue_Ribbon_Award_Year', 'Excelerate_Award_Gold_Year', 'Spot_Light_Award_Year', 'Improvement_Award_Year', 'Excellence_Award_Year', 'Student_Growth_Rating', 'Student_Growth_Description', 'Growth_Reading_Grades_Tested_Pct_ES', 'Growth_Reading_Grades_Tested_Label_ES', 'Growth_Math_Grades_Tested_Pct_ES', 'Growth_Math_Grades_Tested_Label_ES', 'Student_Attainment_Rating', 'Student_Attainment_Description', 'Attainment_Reading_Pct_ES', 'Attainment_Reading_Lbl_ES', 'Attainment_Math_Pct_ES', 'Attainment_Math_Lbl_ES', 'Culture_Climate_Rating', 'Culture_Climate_Description', 'School_Survey_Student_Response_Rate_Pct', 'School_Survey_Student_Response_Rate_Avg_Pct', 'School_Survey_Teacher_Response_Rate_Pct', 'School_Survey_Teacher_Response_Rate_Avg_Pct', 'Healthy_School_Certification', 'Healthy_School_Certification_Description', 'Creative_School_Certification', 'Creative_School_Certification_Description', 'NWEA_Reading_Growth_Grade_3_Pct', 'NWEA_Reading_Growth_Grade_3_Lbl', 'NWEA_Reading_Growth_Grade_4_Pct', 'NWEA_Reading_Growth_Grade_4_Lbl', 'NWEA_Reading_Growth_Grade_5_Pct', 'NWEA_Reading_Growth_Grade_5_Lbl', 'NWEA_Reading_Growth_Grade_6_Pct', 'NWEA_Reading_Growth_Grade_6_Lbl', 'NWEA_Reading_Growth_Grade_7_Pct', 'NWEA_Reading_Growth_Grade_7_Lbl', 'NWEA_Reading_Growth_Grade_8_Pct', 'NWEA_Reading_Growth_Grade_8_Lbl', 'NWEA_Math_Growth_Grade_3_Pct', 'NWEA_Math_Growth_Grade_3_Lbl', 'NWEA_Math_Growth_Grade_4_Pct', 'NWEA_Math_Growth_Grade_4_Lbl', 'NWEA_Math_Growth_Grade_5_Pct', 'NWEA_Math_Growth_Grade_5_Lbl', 'NWEA_Math_Growth_Grade_6_Pct', 'NWEA_Math_Growth_Grade_6_Lbl', 'NWEA_Math_Growth_Grade_7_Pct', 'NWEA_Math_Growth_Grade_7_Lbl', 'NWEA_Math_Growth_Grade_8_Pct', 'NWEA_Math_Growth_Grade_8_Lbl', 'NWEA_Reading_Attainment_Grade_2_Pct', 'NWEA_Reading_Attainment_Grade_2_Lbl', 'NWEA_Reading_Attainment_Grade_3_Pct', 'NWEA_Reading_Attainment_Grade_3_Lbl', 'NWEA_Reading_Attainment_Grade_4_Pct', 'NWEA_Reading_Attainment_Grade_4_Lbl', 'NWEA_Reading_Attainment_Grade_5_Pct', 'NWEA_Reading_Attainment_Grade_5_Lbl', 'NWEA_Reading_Attainment_Grade_6_Pct', 'NWEA_Reading_Attainment_Grade_6_Lbl', 'NWEA_Reading_Attainment_Grade_7_Pct', 'NWEA_Reading_Attainment_Grade_7_Lbl', 'NWEA_Reading_Attainment_Grade_8_Pct', 'NWEA_Reading_Attainment_Grade_8_Lbl', 'NWEA_Math_Attainment_Grade_2_Pct', 'NWEA_Math_Attainment_Grade_2_Lbl', 'NWEA_Math_Attainment_Grade_3_Pct', 'NWEA_Math_Attainment_Grade_3_Lbl', 'NWEA_Math_Attainment_Grade_4_Pct', 'NWEA_Math_Attainment_Grade_4_Lbl', 'NWEA_Math_Attainment_Grade_5_Pct', 'NWEA_Math_Attainment_Grade_5_Lbl', 'NWEA_Math_Attainment_Grade_6_Pct', 'NWEA_Math_Attainment_Grade_6_Lbl', 'NWEA_Math_Attainment_Grade_7_Pct', 'NWEA_Math_Attainment_Grade_7_Lbl', 'NWEA_Math_Attainment_Grade_8_Pct', 'NWEA_Math_Attainment_Grade_8_Lbl', 'School_Survey_Involved_Families', 'School_Survey_Supportive_Environment', 'School_Survey_Ambitious_Instruction', 'School_Survey_Effective_Leaders', 'School_Survey_Collaborative_Teachers', 'School_Survey_Safety', 'Suspensions_Per_100_Students_Year_1_Pct', 'Suspensions_Per_100_Students_Year_2_Pct', 'Suspensions_Per_100_Students_Avg_Pct', 'Misconducts_To_Suspensions_Year_1_Pct', 'Misconducts_To_Suspensions_Year_2_Pct', 'Misconducts_To_Suspensions_Avg_Pct', 'Average_Length_Suspension_Year_1_Pct', 'Average_Length_Suspension_Year_2_Pct', 'Average_Length_Suspension_Avg_Pct', 'Behavior_Discipline_Year_1', 'Behavior_Discipline_Year_2', 'School_Survey_School_Community', 'School_Survey_Parent_Teacher_Partnership', 'School_Survey_Quality_Of_Facilities', 'Student_Attendance_Year_1_Pct', 'Student_Attendance_Year_2_Pct', 'Student_Attendance_Avg_Pct', 'Teacher_Attendance_Year_1_Pct', 'Teacher_Attendance_Year_2_Pct', 'Teacher_Attendance_Avg_Pct', 'One_Year_Dropout_Rate_Year_1_Pct', 'One_Year_Dropout_Rate_Year_2_Pct', 'One_Year_Dropout_Rate_Avg_Pct', 'Other_Metrics_Year_1', 'Other_Metrics_Year_2', 'Growth_ACT_Grade_11_Pct', 'Growth_ACT_Grade_11_Lbl', 'Attainment_ACT_Grade_11_Pct', 'Attainment_ACT_Grade_11_Lbl', 'Freshmen_On_Track_School_Pct_Year_2', 'Freshmen_On_Track_CPS_Pct_Year_2', 'Freshmen_On_Track_School_Pct_Year_1', 'Freshmen_On_Track_CPS_Pct_Year_1', 'College_Enrollment_School_Pct_Year_2', 'College_Enrollment_CPS_Pct_Year_2', 'College_Enrollment_School_Pct_Year_1', 'College_Enrollment_CPS_Pct_Year_1', 'College_Persistence_School_Pct_Year_2', 'College_Persistence_CPS_Pct_Year_2', 'College_Persistence_School_Pct_Year_1', 'College_Persistence_CPS_Pct_Year_1', 'Progress_Toward_Graduation_Year_1', 'Progress_Toward_Graduation_Year_2', 'State_School_Report_Card_URL', 'Mobility_Rate_Pct', 'Chronic_Truancy_Pct', 'Empty_Progress_Report_Message', 'School_Survey_Rating_Description', 'Supportive_School_Award', 'Supportive_School_Award_Desc', 'Parent_Survey_Results_Year', 'School_Latitude_x', 'School_Longitude_x', 'Location_x', 'Legacy_Unit_ID', 'Finance_ID', 'Short_Name_y', 'Long_Name_y', 'School_Type_y', 'Primary_Category_y', 'Is_High_School', 'Is_Middle_School', 'Is_Elementary_School', 'Is_Pre_School', 'Summary', 'Administrator_Title', 'Administrator', 'Secondary_Contact_Title', 'Secondary_Contact', 'Address_y', 'City_y', 'State_y', 'Zip_y', 'Phone_y', 'Fax_y', 'CPS_School_Profile_y', 'Website_y', 'Facebook', 'Twitter', 'Youtube', 'Pinterest', 'Attendance_Boundaries', 'Grades_Offered_All', 'Grades_Offered', 'Student_Count_Total', 'Student_Count_Low_Income', 'Student_Count_Special_Ed', 'Student_Count_English_Learners', 'Student_Count_Black', 'Student_Count_Hispanic', 'Student_Count_White', 'Student_Count_Asian', 'Student_Count_Native_American', 'Student_Count_Other_Ethnicity', 'Student_Count_Asian_Pacific_Islander', 'Student_Count_Multi', 'Student_Count_Hawaiian_Pacific_Islander', 'Student_Count_Ethnicity_Not_Available', 'Statistics_Description', 'Demographic_Description', 'ADA_Accessible', 'Dress_Code', 'PreK_School_Day', 'Kindergarten_School_Day', 'School_Hours', 'Freshman_Start_End_Time', 'After_School_Hours', 'Earliest_Drop_Off_Time', 'Classroom_Languages', 'Bilingual_Services', 'Refugee_Services', 'Title_1_Eligible', 'PreSchool_Inclusive', 'Preschool_Instructional', 'Significantly_Modified', 'Hard_Of_Hearing', 'Visual_Impairments', 'Transportation_Bus', 'Transportation_El', 'Transportation_Metra', 'School_Latitude_y', 'School_Longitude_y', 'Average_ACT_School', 'Mean_ACT', 'College_Enrollment_Rate_School', 'College_Enrollment_Rate_Mean', 'Graduation_Rate_School', 'Graduation_Rate_Mean', 'Overall_Rating', 'Rating_Status', 'Rating_Statement', 'Classification_Description', 'School_Year', 'Third_Contact_Title', 'Third_Contact_Name', 'Fourth_Contact_Title', 'Fourth_Contact_Name', 'Fifth_Contact_Title', 'Fifth_Contact_Name', 'Sixth_Contact_Title', 'Sixth_Contact_Name', 'Seventh_Contact_Title', 'Seventh_Contact_Name', 'Location_y']\n"
     ]
    }
   ],
   "source": [
    "print (list(full.columns.values))"
   ]
  },
  {
   "cell_type": "markdown",
   "metadata": {},
   "source": [
    "## Defining \"top-performing\"\n",
    "\n",
    "It will be valuable to select a range of valuables from which to calculate a score relative to which a school can perform better or worse.  It will help to rely on only numerical values.  Since not every performance variable will be available for every type of school (e.g., only high schools will have SAT scores, at least with any regularity), let's begin by restricting the scope of our project to high schools.  To do this, we'll define a new data frame, subsetting the full frame for high schools.\n",
    "\n",
    "Below the .head() print out we see that of the 670 schools in CPS, 188 of them are high schools."
   ]
  },
  {
   "cell_type": "code",
   "execution_count": 4,
   "metadata": {
    "collapsed": false
   },
   "outputs": [
    {
     "name": "stdout",
     "output_type": "stream",
     "text": [
      "    School_ID               Short_Name_x  \\\n",
      "1      400010                ACE TECH HS   \n",
      "3      400013  ASPIRA - EARLY COLLEGE HS   \n",
      "6      400022            CHICAGO ARTS HS   \n",
      "16     400032          CICS - ELLISON HS   \n",
      "17     400033            CICS - LONGWOOD   \n",
      "\n",
      "                                          Long_Name_x School_Type_x  \\\n",
      "1                        ACE Technical Charter School       Charter   \n",
      "3   ASPIRA Charter School - Early College High School       Charter   \n",
      "6                    Chicago High School for the Arts      Contract   \n",
      "16                               CICS - Ralph Ellison       Charter   \n",
      "17                                    CICS - Longwood       Charter   \n",
      "\n",
      "   Primary_Category_x            Address_x   City_x   State_x  Zip_x  \\\n",
      "1                  HS      5410 S STATE ST  Chicago  Illinois  60609   \n",
      "3                  HS     3986 W BARRY AVE  Chicago  Illinois  60618   \n",
      "6                  HS  2714 W AUGUSTA BLVD  Chicago  Illinois  60622   \n",
      "16                 HS       1817 W 80TH ST  Chicago  Illinois  60620   \n",
      "17                 HS       1309 W 95TH ST  Chicago  Illinois  60643   \n",
      "\n",
      "         Phone_x                        ...                          \\\n",
      "1   7.735489e+09                        ...                           \n",
      "3   7.732521e+09                        ...                           \n",
      "6   7.735350e+09                        ...                           \n",
      "16  7.734784e+09                        ...                           \n",
      "17  7.732385e+09                        ...                           \n",
      "\n",
      "    Third_Contact_Name Fourth_Contact_Title Fourth_Contact_Name  \\\n",
      "1                  NaN                  NaN                 NaN   \n",
      "3     Francisco Torres            Registrar         Ana del Rio   \n",
      "6         Abbey Cullen     Dean of Students       Joseph Pancer   \n",
      "16                 NaN                  NaN                 NaN   \n",
      "17                 NaN                  NaN                 NaN   \n",
      "\n",
      "    Fifth_Contact_Title  Fifth_Contact_Name  Sixth_Contact_Title  \\\n",
      "1                   NaN                 NaN                  NaN   \n",
      "3                   NaN                 NaN                  NaN   \n",
      "6    Executive Director          Jose Ochoa       Office Manager   \n",
      "16                  NaN                 NaN                  NaN   \n",
      "17                  NaN                 NaN                  NaN   \n",
      "\n",
      "    Sixth_Contact_Name  Seventh_Contact_Title  Seventh_Contact_Name  \\\n",
      "1                  NaN                    NaN                   NaN   \n",
      "3                  NaN                    NaN                   NaN   \n",
      "6        Ingrid Farmer     Attendance Manager    Antoinette Collier   \n",
      "16                 NaN                    NaN                   NaN   \n",
      "17                 NaN                    NaN                   NaN   \n",
      "\n",
      "                                           Location_y  \n",
      "1   5410 S STATE ST\\nChicago, Illinois 60609\\n(41....  \n",
      "3   3986 W BARRY AVE\\nChicago, Illinois 60618\\n(41...  \n",
      "6   2714 W AUGUSTA BLVD\\nChicago, Illinois 60622\\n...  \n",
      "16  1817 W 80TH ST\\nChicago, Illinois 60620\\n(41.7...  \n",
      "17  1309 W 95TH ST\\nChicago, Illinois 60643\\n(41.7...  \n",
      "\n",
      "[5 rows x 243 columns]\n",
      "\n",
      " Number of high schools in CPS: 188\n"
     ]
    }
   ],
   "source": [
    "full_HS = full[full['Primary_Category_x'] == 'HS']\n",
    "\n",
    "print (full_HS.head())\n",
    "print (\"\\n\", \"Number of high schools in CPS:\", len(full_HS))"
   ]
  },
  {
   "cell_type": "markdown",
   "metadata": {},
   "source": [
    "Which performance variable should we use to calculate a high school's overall performance score?  In the real world, this decision would require substantial discussion among the relevant parties, and would likely be controversial.  For simplicity, I'll include the following variables.  I've also included the range for each variable (for scaling purposes later), and whether that variable includes any missing values we'll need to address.\n",
    "\n",
    "Performace metrics that we'll include:\n",
    "\n",
    "'Growth_ACT_Grade_11_Pct' from 2-96, several missing values\n",
    "'Attainment_ACT_Grade_11_Pct' from 3-99, smv\n",
    "'Freshmen_On_Track_School_Pct_Year_2' 41.7-100, smv\n",
    "'Freshmen_On_Track_School_Pct_Year_1' 51.4 - 100, smv\n",
    "'College_Enrollment_School_Pct_Year_2' 0-92.2, smv\n",
    "'College_Enrollment_School_Pct_Year_1' 0-89.9, smv\n",
    "'College_Persistence_School_Pct_Year_2' 14.3-95.7, smv\n",
    "'College_Persistence_School_Pct_Year_1'25-95.7, smv\n",
    "'Average_ACT_School' 12.5-29.6, smv\n",
    "'College_Enrollment_Rate_School' 0 - 93.4, smv\n",
    "'Graduation_Rate_School' 0 - 97.8, smv\n",
    "\n",
    "## Cleaning our Data\n",
    "\n",
    "Two things to note about these variables.  First, for each, many rows are missing values, so we'll need to figure out a way to address this either by leaving them as they are, excluding those rows from our analysis, or imputing them.  \n",
    "\n",
    "Second, since all but average_ACT are on a 100-pt scale, the variables will need to be scaled in order to come up with a total score.  Otherwise, the variables on the 100-pt scale would have a dispropotionately large weighting in our total performance measure.  (Comment: It's unclear how important this step is in this particular case since 9 of our 10 performance variables *are* on the 100-pt scale; the ACT score is such a small portion of our total metric (only 10%) that its getting swamped by the other variables may not be that big of a deal.)  \n",
    "\n",
    "Since such a large portion of our data is missing values, we don't want to exclude these rows from our analysis.  So, let's impute the missing values first.  For each variable with missing values, we'll fill in each missing value with the mean score for that variable, though, as with the decision about which variables to include in the total performance score, this decision is potentially controversial and should involve some thought/discussion."
   ]
  },
  {
   "cell_type": "code",
   "execution_count": 5,
   "metadata": {
    "collapsed": false
   },
   "outputs": [
    {
     "name": "stdout",
     "output_type": "stream",
     "text": [
      "1      13.000000\n",
      "3      54.000000\n",
      "6      70.000000\n",
      "16     24.000000\n",
      "17     18.000000\n",
      "18     66.000000\n",
      "19     96.000000\n",
      "20     76.000000\n",
      "21     34.761905\n",
      "32     34.000000\n",
      "33     42.000000\n",
      "34     38.000000\n",
      "35     38.000000\n",
      "36     24.000000\n",
      "37     46.000000\n",
      "38     70.000000\n",
      "39     30.000000\n",
      "40     24.000000\n",
      "42     18.000000\n",
      "43     21.000000\n",
      "44     58.000000\n",
      "45     18.000000\n",
      "48     34.761905\n",
      "53     46.000000\n",
      "61     62.000000\n",
      "62     50.000000\n",
      "63     34.000000\n",
      "65     13.000000\n",
      "67     38.000000\n",
      "69     58.000000\n",
      "         ...    \n",
      "619    58.000000\n",
      "620    30.000000\n",
      "622    54.000000\n",
      "624    13.000000\n",
      "627    15.000000\n",
      "628    24.000000\n",
      "630    13.000000\n",
      "634    38.000000\n",
      "635    34.000000\n",
      "643    34.000000\n",
      "645    30.000000\n",
      "647    34.761905\n",
      "648    13.000000\n",
      "649    38.000000\n",
      "651    34.761905\n",
      "652    34.761905\n",
      "653    34.761905\n",
      "654     4.000000\n",
      "655     2.000000\n",
      "656    34.761905\n",
      "657    34.761905\n",
      "658    34.761905\n",
      "659     8.000000\n",
      "660    34.761905\n",
      "662    34.761905\n",
      "663    34.761905\n",
      "664    34.761905\n",
      "665    34.761905\n",
      "667    34.761905\n",
      "669    34.761905\n",
      "Name: Growth_ACT_Grade_11_Pct, dtype: float64\n",
      "1       8.000000\n",
      "3      22.000000\n",
      "6      45.000000\n",
      "16     12.000000\n",
      "17     11.000000\n",
      "18     52.000000\n",
      "19     42.000000\n",
      "20     51.000000\n",
      "21     28.006993\n",
      "32     65.000000\n",
      "33     39.000000\n",
      "34     45.000000\n",
      "35     62.000000\n",
      "36     49.000000\n",
      "37     40.000000\n",
      "38     77.000000\n",
      "39     19.000000\n",
      "40     11.000000\n",
      "42     16.000000\n",
      "43     17.000000\n",
      "44     40.000000\n",
      "45     19.000000\n",
      "48      3.000000\n",
      "53     31.000000\n",
      "61     32.000000\n",
      "62     24.000000\n",
      "63     17.000000\n",
      "65     14.000000\n",
      "67     28.000000\n",
      "69     78.000000\n",
      "         ...    \n",
      "619    31.000000\n",
      "620    19.000000\n",
      "622    62.000000\n",
      "624    10.000000\n",
      "627     8.000000\n",
      "628    40.000000\n",
      "630     9.000000\n",
      "634    27.000000\n",
      "635    52.000000\n",
      "643    36.000000\n",
      "645    29.000000\n",
      "647     3.000000\n",
      "648     9.000000\n",
      "649    35.000000\n",
      "651    28.006993\n",
      "652    28.006993\n",
      "653    28.006993\n",
      "654     3.000000\n",
      "655     4.000000\n",
      "656    28.006993\n",
      "657    10.000000\n",
      "658    28.006993\n",
      "659     8.000000\n",
      "660    12.000000\n",
      "662    28.006993\n",
      "663     6.000000\n",
      "664    28.006993\n",
      "665     7.000000\n",
      "667    28.006993\n",
      "669    28.006993\n",
      "Name: Attainment_ACT_Grade_11_Pct, dtype: float64\n",
      "1       54.200000\n",
      "3       74.500000\n",
      "6       85.500000\n",
      "16      74.400000\n",
      "17      93.000000\n",
      "18      92.700000\n",
      "19      78.000000\n",
      "20      83.076515\n",
      "21      83.076515\n",
      "32      87.000000\n",
      "33      82.900000\n",
      "34      91.600000\n",
      "35      88.500000\n",
      "36      82.400000\n",
      "37      78.300000\n",
      "38      71.900000\n",
      "39      83.700000\n",
      "40      74.600000\n",
      "42      78.900000\n",
      "43      86.400000\n",
      "44      86.300000\n",
      "45      75.500000\n",
      "48      83.076515\n",
      "53      66.700000\n",
      "61      86.800000\n",
      "62      80.200000\n",
      "63      86.200000\n",
      "65      78.600000\n",
      "67      72.000000\n",
      "69      77.400000\n",
      "          ...    \n",
      "619     84.000000\n",
      "620     83.800000\n",
      "622     83.076515\n",
      "624     72.600000\n",
      "627     81.800000\n",
      "628     90.400000\n",
      "630     68.300000\n",
      "634     86.700000\n",
      "635     94.200000\n",
      "643     89.800000\n",
      "645     98.500000\n",
      "647     83.076515\n",
      "648     83.076515\n",
      "649     79.200000\n",
      "651     76.300000\n",
      "652    100.000000\n",
      "653     79.200000\n",
      "654     83.076515\n",
      "655     83.076515\n",
      "656     83.076515\n",
      "657     83.076515\n",
      "658     83.076515\n",
      "659     83.076515\n",
      "660     83.076515\n",
      "662     83.076515\n",
      "663     83.076515\n",
      "664     83.076515\n",
      "665     83.076515\n",
      "667     83.076515\n",
      "669     83.076515\n",
      "Name: Freshmen_On_Track_School_Pct_Year_2, dtype: float64\n",
      "1      49.400000\n",
      "3      40.200000\n",
      "6      83.100000\n",
      "16     68.600000\n",
      "17     71.900000\n",
      "18     79.700000\n",
      "19     78.200000\n",
      "20     59.100000\n",
      "21     17.100000\n",
      "32     88.100000\n",
      "33     87.400000\n",
      "34     75.800000\n",
      "35     81.800000\n",
      "36     85.600000\n",
      "37     78.200000\n",
      "38     92.200000\n",
      "39     80.200000\n",
      "40     69.800000\n",
      "42     59.300000\n",
      "43     57.700000\n",
      "44     70.500000\n",
      "45     76.900000\n",
      "48     12.500000\n",
      "53     70.900000\n",
      "61     66.400000\n",
      "62     82.500000\n",
      "63     75.000000\n",
      "65     48.100000\n",
      "67     52.200000\n",
      "69     83.200000\n",
      "         ...    \n",
      "619    46.200000\n",
      "620    76.500000\n",
      "622    90.300000\n",
      "624    39.100000\n",
      "627    74.700000\n",
      "628    51.400000\n",
      "630    57.500000\n",
      "634    61.900000\n",
      "635    64.100000\n",
      "643    52.800000\n",
      "645    51.151634\n",
      "647    12.300000\n",
      "648    25.300000\n",
      "649    51.151634\n",
      "651    51.151634\n",
      "652    51.151634\n",
      "653    51.151634\n",
      "654    10.000000\n",
      "655    51.151634\n",
      "656    51.151634\n",
      "657    19.600000\n",
      "658    51.151634\n",
      "659    51.151634\n",
      "660    13.600000\n",
      "662    51.151634\n",
      "663    51.151634\n",
      "664    51.151634\n",
      "665    51.151634\n",
      "667    51.151634\n",
      "669    51.151634\n",
      "Name: College_Enrollment_School_Pct_Year_2, dtype: float64\n",
      "1      51.900000\n",
      "3      71.400000\n",
      "6      71.300000\n",
      "16     75.200000\n",
      "17     57.600000\n",
      "18     74.500000\n",
      "19     56.500000\n",
      "20     69.600000\n",
      "21     25.900000\n",
      "32     84.300000\n",
      "33     87.100000\n",
      "34     78.000000\n",
      "35     74.300000\n",
      "36     84.300000\n",
      "37     76.100000\n",
      "38     83.100000\n",
      "39     76.500000\n",
      "40     63.000000\n",
      "42     68.800000\n",
      "43     62.000000\n",
      "44     66.700000\n",
      "45     64.000000\n",
      "48     21.600000\n",
      "53     66.700000\n",
      "61     75.000000\n",
      "62     79.100000\n",
      "63     75.000000\n",
      "65     54.500000\n",
      "67     57.600000\n",
      "69     83.600000\n",
      "         ...    \n",
      "619    50.000000\n",
      "620    54.800000\n",
      "622    79.100000\n",
      "624    37.300000\n",
      "627    58.400000\n",
      "628    56.600000\n",
      "630    46.800000\n",
      "634    54.200000\n",
      "635    62.800000\n",
      "643    50.965753\n",
      "645    50.965753\n",
      "647    10.300000\n",
      "648    15.800000\n",
      "649    50.965753\n",
      "651    50.965753\n",
      "652    50.965753\n",
      "653    50.965753\n",
      "654    50.965753\n",
      "655    50.965753\n",
      "656    50.965753\n",
      "657    50.965753\n",
      "658    50.965753\n",
      "659    50.965753\n",
      "660    50.965753\n",
      "662    50.965753\n",
      "663    50.965753\n",
      "664    50.965753\n",
      "665    50.965753\n",
      "667    50.965753\n",
      "669    50.965753\n",
      "Name: College_Enrollment_School_Pct_Year_1, dtype: float64\n"
     ]
    },
    {
     "name": "stderr",
     "output_type": "stream",
     "text": [
      "/Users/trevornyman/anaconda/lib/python3.5/site-packages/ipykernel/__main__.py:19: SettingWithCopyWarning: \n",
      "A value is trying to be set on a copy of a slice from a DataFrame.\n",
      "Try using .loc[row_indexer,col_indexer] = value instead\n",
      "\n",
      "See the caveats in the documentation: http://pandas.pydata.org/pandas-docs/stable/indexing.html#indexing-view-versus-copy\n"
     ]
    },
    {
     "name": "stdout",
     "output_type": "stream",
     "text": [
      "1      61.800000\n",
      "3      62.900000\n",
      "6      84.800000\n",
      "16     70.500000\n",
      "17     58.800000\n",
      "18     75.800000\n",
      "19     84.600000\n",
      "20     62.500000\n",
      "21     60.783077\n",
      "32     65.500000\n",
      "33     73.100000\n",
      "34     70.700000\n",
      "35     64.500000\n",
      "36     72.000000\n",
      "37     68.700000\n",
      "38     84.600000\n",
      "39     52.300000\n",
      "40     60.900000\n",
      "42     66.700000\n",
      "43     59.600000\n",
      "44     61.800000\n",
      "45     65.600000\n",
      "48     60.783077\n",
      "53     80.000000\n",
      "61     67.800000\n",
      "62     68.100000\n",
      "63     70.000000\n",
      "65     61.100000\n",
      "67     70.600000\n",
      "69     74.600000\n",
      "         ...    \n",
      "619    76.700000\n",
      "620    50.000000\n",
      "622    65.300000\n",
      "624    28.600000\n",
      "627    48.900000\n",
      "628    60.500000\n",
      "630    54.500000\n",
      "634    71.900000\n",
      "635    71.400000\n",
      "643    60.783077\n",
      "645    60.783077\n",
      "647    60.783077\n",
      "648    42.100000\n",
      "649    60.783077\n",
      "651    60.783077\n",
      "652    60.783077\n",
      "653    60.783077\n",
      "654    60.783077\n",
      "655    60.783077\n",
      "656    60.783077\n",
      "657    60.783077\n",
      "658    60.783077\n",
      "659    60.783077\n",
      "660    60.783077\n",
      "662    60.783077\n",
      "663    60.783077\n",
      "664    60.783077\n",
      "665    60.783077\n",
      "667    60.783077\n",
      "669    60.783077\n",
      "Name: College_Persistence_School_Pct_Year_2, dtype: float64\n",
      "1      53.600000\n",
      "3      60.900000\n",
      "6      65.215238\n",
      "16     59.200000\n",
      "17     63.900000\n",
      "18     80.600000\n",
      "19     85.700000\n",
      "20     65.215238\n",
      "21     65.215238\n",
      "32     80.200000\n",
      "33     84.400000\n",
      "34     74.400000\n",
      "35     72.100000\n",
      "36     81.200000\n",
      "37     79.200000\n",
      "38     78.000000\n",
      "39     73.300000\n",
      "40     53.400000\n",
      "42     56.900000\n",
      "43     50.800000\n",
      "44     69.600000\n",
      "45     71.100000\n",
      "48     36.400000\n",
      "53     75.600000\n",
      "61     70.000000\n",
      "62     58.800000\n",
      "63     69.000000\n",
      "65     65.215238\n",
      "67     65.215238\n",
      "69     65.215238\n",
      "         ...    \n",
      "619    67.500000\n",
      "620    67.600000\n",
      "622    74.700000\n",
      "624    66.000000\n",
      "627    46.700000\n",
      "628    65.215238\n",
      "630    47.900000\n",
      "634    65.215238\n",
      "635    65.215238\n",
      "643    65.215238\n",
      "645    65.215238\n",
      "647    65.215238\n",
      "648    48.000000\n",
      "649    65.215238\n",
      "651    65.215238\n",
      "652    65.215238\n",
      "653    65.215238\n",
      "654    65.215238\n",
      "655    65.215238\n",
      "656    65.215238\n",
      "657    65.215238\n",
      "658    65.215238\n",
      "659    65.215238\n",
      "660    65.215238\n",
      "662    65.215238\n",
      "663    65.215238\n",
      "664    65.215238\n",
      "665    65.215238\n",
      "667    65.215238\n",
      "669    65.215238\n",
      "Name: College_Persistence_School_Pct_Year_1, dtype: float64\n",
      "1      15.200000\n",
      "3      14.900000\n",
      "6      19.400000\n",
      "16     16.300000\n",
      "17     15.400000\n",
      "18     19.400000\n",
      "19     20.800000\n",
      "20     18.800000\n",
      "21     13.300000\n",
      "32     21.200000\n",
      "33     17.900000\n",
      "34     19.500000\n",
      "35     21.900000\n",
      "36     20.900000\n",
      "37     18.500000\n",
      "38     22.200000\n",
      "39     15.300000\n",
      "40     14.500000\n",
      "42     16.800000\n",
      "43     16.500000\n",
      "44     17.500000\n",
      "45     17.300000\n",
      "48     14.500000\n",
      "53     17.200000\n",
      "61     17.700000\n",
      "62     16.700000\n",
      "63     15.700000\n",
      "65     15.600000\n",
      "67     17.500000\n",
      "69     21.700000\n",
      "         ...    \n",
      "619    17.500000\n",
      "620    15.600000\n",
      "622    21.100000\n",
      "624    14.700000\n",
      "627    14.300000\n",
      "628    18.800000\n",
      "630    14.600000\n",
      "634    17.600000\n",
      "635    19.700000\n",
      "643    18.400000\n",
      "645    17.900000\n",
      "647    12.700000\n",
      "648    15.100000\n",
      "649    16.600000\n",
      "651    18.700000\n",
      "652    17.600000\n",
      "653    19.200000\n",
      "654    13.600000\n",
      "655    12.900000\n",
      "656    15.000000\n",
      "657    14.400000\n",
      "658    15.600000\n",
      "659    14.100000\n",
      "660    14.400000\n",
      "662    16.300000\n",
      "663    15.400000\n",
      "664    14.200000\n",
      "665    14.200000\n",
      "667    14.700000\n",
      "669    16.666092\n",
      "Name: Average_ACT_School, dtype: float64\n",
      "1      56.300000\n",
      "3      29.500000\n",
      "6      79.600000\n",
      "16     64.300000\n",
      "17     64.900000\n",
      "18     76.600000\n",
      "19     72.000000\n",
      "20     68.000000\n",
      "21     25.000000\n",
      "32     84.700000\n",
      "33     84.200000\n",
      "34     80.500000\n",
      "35     85.700000\n",
      "36     77.200000\n",
      "37     76.900000\n",
      "38     88.000000\n",
      "39     65.800000\n",
      "40     63.200000\n",
      "42     53.200000\n",
      "43     75.700000\n",
      "44     81.600000\n",
      "45     62.300000\n",
      "48     14.700000\n",
      "53     80.400000\n",
      "61     63.000000\n",
      "62     67.100000\n",
      "63     61.400000\n",
      "65     60.000000\n",
      "67     72.700000\n",
      "69     84.400000\n",
      "         ...    \n",
      "619    57.800000\n",
      "620    65.400000\n",
      "622    80.000000\n",
      "624    41.200000\n",
      "627    50.700000\n",
      "628    61.500000\n",
      "630    40.000000\n",
      "634    59.600000\n",
      "635    72.600000\n",
      "643    62.200000\n",
      "645    64.200000\n",
      "647    11.400000\n",
      "648    18.800000\n",
      "649    47.787117\n",
      "651    47.787117\n",
      "652    47.787117\n",
      "653    47.787117\n",
      "654     7.800000\n",
      "655    12.500000\n",
      "656    14.300000\n",
      "657    16.700000\n",
      "658    37.800000\n",
      "659    12.800000\n",
      "660     7.400000\n",
      "662    47.787117\n",
      "663    22.200000\n",
      "664    47.787117\n",
      "665    20.800000\n",
      "667    47.787117\n",
      "669    47.787117\n",
      "Name: College_Enrollment_Rate_School, dtype: float64\n",
      "1      68.800\n",
      "3      67.900\n",
      "6      81.100\n",
      "16     78.600\n",
      "17     82.600\n",
      "18     83.300\n",
      "19     85.200\n",
      "20     50.000\n",
      "21     71.475\n",
      "32     92.800\n",
      "33     88.100\n",
      "34     81.700\n",
      "35     90.300\n",
      "36     85.600\n",
      "37     82.400\n",
      "38     83.300\n",
      "39     67.100\n",
      "40     69.700\n",
      "42     75.200\n",
      "43     73.100\n",
      "44     85.700\n",
      "45     78.100\n",
      "48      6.700\n",
      "53     76.300\n",
      "61     84.500\n",
      "62     71.300\n",
      "63     66.700\n",
      "65     69.500\n",
      "67     69.900\n",
      "69     71.500\n",
      "        ...  \n",
      "619    77.900\n",
      "620    74.300\n",
      "622    71.475\n",
      "624    58.900\n",
      "627    73.900\n",
      "628    86.100\n",
      "630    70.900\n",
      "634    87.100\n",
      "635    83.600\n",
      "643    80.500\n",
      "645    71.000\n",
      "647     7.700\n",
      "648     0.000\n",
      "649    71.475\n",
      "651    71.475\n",
      "652    71.475\n",
      "653    71.475\n",
      "654    71.475\n",
      "655    71.475\n",
      "656    71.475\n",
      "657    71.475\n",
      "658    71.475\n",
      "659    71.475\n",
      "660    71.475\n",
      "662    71.475\n",
      "663    71.475\n",
      "664    71.475\n",
      "665    71.475\n",
      "667    71.475\n",
      "669    71.475\n",
      "Name: Graduation_Rate_School, dtype: float64\n"
     ]
    }
   ],
   "source": [
    "Performance_metrics = ['Growth_ACT_Grade_11_Pct', \n",
    "                       'Attainment_ACT_Grade_11_Pct', \n",
    "                       'Freshmen_On_Track_School_Pct_Year_2',  \n",
    "                       'College_Enrollment_School_Pct_Year_2', \n",
    "                       'College_Enrollment_School_Pct_Year_1', \n",
    "                       'College_Persistence_School_Pct_Year_2', \n",
    "                       'College_Persistence_School_Pct_Year_1', \n",
    "                       'Average_ACT_School' , \n",
    "                       'College_Enrollment_Rate_School', \n",
    "                       'Graduation_Rate_School']\n",
    "\n",
    "\n",
    "\n",
    "#print (full_HS['Growth_ACT_Grade_11_Pct'])\n",
    "#loop through the variables that go into the total score\n",
    "for m in Performance_metrics:\n",
    "    \n",
    "    #set the values of those variables to themselves with NaN imputed with their mean value.\n",
    "    full_HS[m] = full_HS[m].fillna(full_HS[m].mean())\n",
    "    print (full_HS[m])\n",
    "\n",
    "\n"
   ]
  },
  {
   "cell_type": "markdown",
   "metadata": {},
   "source": [
    "Ok, so the values have been imputed.  For example, if you look at Growth_ACT_Grade_11_Pct, you notice that 34.761905 comes up pretty frequently; obviously, this is the mean value that was imputed for the missing values on these rows.  \n",
    "\n",
    "Now, we need to scale the data."
   ]
  },
  {
   "cell_type": "code",
   "execution_count": 6,
   "metadata": {
    "collapsed": false
   },
   "outputs": [
    {
     "name": "stderr",
     "output_type": "stream",
     "text": [
      "/Users/trevornyman/anaconda/lib/python3.5/site-packages/ipykernel/__main__.py:9: SettingWithCopyWarning: \n",
      "A value is trying to be set on a copy of a slice from a DataFrame.\n",
      "Try using .loc[row_indexer,col_indexer] = value instead\n",
      "\n",
      "See the caveats in the documentation: http://pandas.pydata.org/pandas-docs/stable/indexing.html#indexing-view-versus-copy\n"
     ]
    }
   ],
   "source": [
    "def featureScaling(arr):\n",
    "    new_data= []\n",
    "    for i in arr:\n",
    "        new_data.append(float((i-min(arr)))/float(max(arr)-min(arr)))\n",
    "    return new_data\n",
    "    \n",
    "\n",
    "for m in Performance_metrics:\n",
    "    full_HS[m] = featureScaling(full_HS[m])\n",
    "    #print (full_HS[m])"
   ]
  },
  {
   "cell_type": "markdown",
   "metadata": {},
   "source": [
    "Let's use the .head() function to take a look at the scaled versions of these variables."
   ]
  },
  {
   "cell_type": "code",
   "execution_count": 7,
   "metadata": {
    "collapsed": false
   },
   "outputs": [
    {
     "name": "stdout",
     "output_type": "stream",
     "text": [
      "1     0.117021\n",
      "3     0.553191\n",
      "6     0.723404\n",
      "16    0.234043\n",
      "17    0.170213\n",
      "Name: Growth_ACT_Grade_11_Pct, dtype: float64\n",
      "1     0.052083\n",
      "3     0.197917\n",
      "6     0.437500\n",
      "16    0.093750\n",
      "17    0.083333\n",
      "Name: Attainment_ACT_Grade_11_Pct, dtype: float64\n",
      "1     0.214408\n",
      "3     0.562607\n",
      "6     0.751286\n",
      "16    0.560892\n",
      "17    0.879931\n",
      "Name: Freshmen_On_Track_School_Pct_Year_2, dtype: float64\n",
      "1     0.535792\n",
      "3     0.436009\n",
      "6     0.901302\n",
      "16    0.744035\n",
      "17    0.779826\n",
      "Name: College_Enrollment_School_Pct_Year_2, dtype: float64\n",
      "1     0.577308\n",
      "3     0.794216\n",
      "6     0.793103\n",
      "16    0.836485\n",
      "17    0.640712\n",
      "Name: College_Enrollment_School_Pct_Year_1, dtype: float64\n",
      "1     0.583538\n",
      "3     0.597052\n",
      "6     0.866093\n",
      "16    0.690418\n",
      "17    0.546683\n",
      "Name: College_Persistence_School_Pct_Year_2, dtype: float64\n",
      "1     0.404526\n",
      "3     0.507779\n",
      "6     0.568815\n",
      "16    0.483734\n",
      "17    0.550212\n",
      "Name: College_Persistence_School_Pct_Year_1, dtype: float64\n",
      "1     0.157895\n",
      "3     0.140351\n",
      "6     0.403509\n",
      "16    0.222222\n",
      "17    0.169591\n",
      "Name: Average_ACT_School, dtype: float64\n",
      "1     0.602784\n",
      "3     0.315846\n",
      "6     0.852248\n",
      "16    0.688437\n",
      "17    0.694861\n",
      "Name: College_Enrollment_Rate_School, dtype: float64\n",
      "1     0.703476\n",
      "3     0.694274\n",
      "6     0.829243\n",
      "16    0.803681\n",
      "17    0.844581\n",
      "Name: Graduation_Rate_School, dtype: float64\n"
     ]
    }
   ],
   "source": [
    "for m in Performance_metrics:\n",
    "    print (full_HS[m].head())"
   ]
  },
  {
   "cell_type": "markdown",
   "metadata": {},
   "source": [
    "Now we can compute a total score which will be the sum of each of these variables for each school.  Since the total score is the sum of 10 variables, each of which has a maximum value of 1, out total score values should range from 0-10, which, if we look at the below output, it does."
   ]
  },
  {
   "cell_type": "code",
   "execution_count": 8,
   "metadata": {
    "collapsed": false
   },
   "outputs": [
    {
     "name": "stdout",
     "output_type": "stream",
     "text": [
      "Maximum score: 9.66948274962\n",
      "Minimun score: 2.35956599043\n",
      "\n",
      " 1      3.948832\n",
      "3      4.799242\n",
      "6      7.126505\n",
      "16     5.357696\n",
      "17     5.359943\n",
      "18     7.376502\n",
      "19     7.355141\n",
      "20     6.180815\n",
      "21     3.977440\n",
      "32     7.430770\n",
      "33     7.104650\n",
      "34     6.864374\n",
      "35     7.187464\n",
      "36     6.974237\n",
      "37     6.627619\n",
      "38     7.911065\n",
      "39     5.610077\n",
      "40     4.820003\n",
      "42     5.037078\n",
      "43     5.143441\n",
      "44     6.509458\n",
      "45     5.491164\n",
      "48     2.509234\n",
      "53     6.138141\n",
      "61     6.404760\n",
      "62     5.996504\n",
      "63     5.730411\n",
      "65     4.670531\n",
      "67     5.415949\n",
      "69     7.303990\n",
      "         ...   \n",
      "619    5.745708\n",
      "620    5.308285\n",
      "622    7.156540\n",
      "624    3.486547\n",
      "627    4.473714\n",
      "628    5.685496\n",
      "630    3.873787\n",
      "634    5.782493\n",
      "635    6.468588\n",
      "643    5.622754\n",
      "645    5.533670\n",
      "647    2.658570\n",
      "648    2.359566\n",
      "649    5.103337\n",
      "651    5.069110\n",
      "652    5.411300\n",
      "653    5.148092\n",
      "654    3.424898\n",
      "655    3.869753\n",
      "656    4.610436\n",
      "657    4.071263\n",
      "658    4.897130\n",
      "659    4.048637\n",
      "660    3.927448\n",
      "662    5.044994\n",
      "663    4.489171\n",
      "664    4.922187\n",
      "665    4.414423\n",
      "667    4.951427\n",
      "669    5.066403\n",
      "Name: Total_Performance_Score, dtype: float64\n"
     ]
    },
    {
     "name": "stderr",
     "output_type": "stream",
     "text": [
      "/Users/trevornyman/anaconda/lib/python3.5/site-packages/ipykernel/__main__.py:12: SettingWithCopyWarning: \n",
      "A value is trying to be set on a copy of a slice from a DataFrame.\n",
      "Try using .loc[row_indexer,col_indexer] = value instead\n",
      "\n",
      "See the caveats in the documentation: http://pandas.pydata.org/pandas-docs/stable/indexing.html#indexing-view-versus-copy\n"
     ]
    }
   ],
   "source": [
    "Vars = [full_HS['Growth_ACT_Grade_11_Pct'], \n",
    "                       full_HS['Attainment_ACT_Grade_11_Pct'], \n",
    "                       full_HS['Freshmen_On_Track_School_Pct_Year_2'],  \n",
    "                       full_HS['College_Enrollment_School_Pct_Year_2'], \n",
    "                       full_HS['College_Enrollment_School_Pct_Year_1'], \n",
    "                       full_HS['College_Persistence_School_Pct_Year_2'], \n",
    "                       full_HS['College_Persistence_School_Pct_Year_1'], \n",
    "                       full_HS['Average_ACT_School'], \n",
    "                       full_HS['College_Enrollment_Rate_School'], \n",
    "                       full_HS['Graduation_Rate_School']]\n",
    "\n",
    "full_HS['Total_Performance_Score'] = sum(Vars)\n",
    "print (\"Maximum score:\", max(full_HS['Total_Performance_Score']))\n",
    "print (\"Minimun score:\", min(full_HS['Total_Performance_Score']))\n",
    "print (\"\\n\" ,full_HS['Total_Performance_Score'])\n"
   ]
  },
  {
   "cell_type": "markdown",
   "metadata": {},
   "source": [
    "## Identifying our \"top-performers\"\n",
    "\n",
    "Now that we have a total score for each school, we need a way to determine when a school is \"top-performing\" relative to this measurement.  One simple way to do this is to designate a certain percentile, above which a school counts as \"top-performing\".  We can use the .describe() function to do this.\n",
    "\n",
    "A different approach would use a graded color sceme to illustrate relative scoring on a plot.  This would have the advantage including less bias into what counts as top-performing since it doesn't say exactly what that is.  One disadvantage to this approach, though, is that the visualization of the data will require more interpretation.  \n",
    "\n",
    "For starters, I'll go with the first strategy and choose the top 25% of schools as the top-performers, and then we can readdress things if we think we need to."
   ]
  },
  {
   "cell_type": "code",
   "execution_count": 9,
   "metadata": {
    "collapsed": false
   },
   "outputs": [
    {
     "name": "stdout",
     "output_type": "stream",
     "text": [
      "count    188.000000\n",
      "mean       5.066403\n",
      "std        1.502275\n",
      "min        2.359566\n",
      "25%        3.903054\n",
      "50%        5.017926\n",
      "75%        5.788306\n",
      "max        9.669483\n",
      "Name: Total_Performance_Score, dtype: float64\n"
     ]
    }
   ],
   "source": [
    "print (full_HS['Total_Performance_Score'].describe())"
   ]
  },
  {
   "cell_type": "markdown",
   "metadata": {},
   "source": [
    "Let's define a new categorical variable, Is_top_performer."
   ]
  },
  {
   "cell_type": "code",
   "execution_count": 10,
   "metadata": {
    "collapsed": false
   },
   "outputs": [
    {
     "name": "stdout",
     "output_type": "stream",
     "text": [
      "    School_ID               Short_Name_x  \\\n",
      "1      400010                ACE TECH HS   \n",
      "3      400013  ASPIRA - EARLY COLLEGE HS   \n",
      "6      400022            CHICAGO ARTS HS   \n",
      "16     400032          CICS - ELLISON HS   \n",
      "17     400033            CICS - LONGWOOD   \n",
      "\n",
      "                                          Long_Name_x School_Type_x  \\\n",
      "1                        ACE Technical Charter School       Charter   \n",
      "3   ASPIRA Charter School - Early College High School       Charter   \n",
      "6                    Chicago High School for the Arts      Contract   \n",
      "16                               CICS - Ralph Ellison       Charter   \n",
      "17                                    CICS - Longwood       Charter   \n",
      "\n",
      "   Primary_Category_x            Address_x   City_x   State_x  Zip_x  \\\n",
      "1                  HS      5410 S STATE ST  Chicago  Illinois  60609   \n",
      "3                  HS     3986 W BARRY AVE  Chicago  Illinois  60618   \n",
      "6                  HS  2714 W AUGUSTA BLVD  Chicago  Illinois  60622   \n",
      "16                 HS       1817 W 80TH ST  Chicago  Illinois  60620   \n",
      "17                 HS       1309 W 95TH ST  Chicago  Illinois  60643   \n",
      "\n",
      "         Phone_x       ...         Fourth_Contact_Name Fifth_Contact_Title  \\\n",
      "1   7.735489e+09       ...                         NaN                 NaN   \n",
      "3   7.732521e+09       ...                 Ana del Rio                 NaN   \n",
      "6   7.735350e+09       ...               Joseph Pancer  Executive Director   \n",
      "16  7.734784e+09       ...                         NaN                 NaN   \n",
      "17  7.732385e+09       ...                         NaN                 NaN   \n",
      "\n",
      "   Fifth_Contact_Name  Sixth_Contact_Title  Sixth_Contact_Name  \\\n",
      "1                 NaN                  NaN                 NaN   \n",
      "3                 NaN                  NaN                 NaN   \n",
      "6          Jose Ochoa       Office Manager       Ingrid Farmer   \n",
      "16                NaN                  NaN                 NaN   \n",
      "17                NaN                  NaN                 NaN   \n",
      "\n",
      "    Seventh_Contact_Title  Seventh_Contact_Name  \\\n",
      "1                     NaN                   NaN   \n",
      "3                     NaN                   NaN   \n",
      "6      Attendance Manager    Antoinette Collier   \n",
      "16                    NaN                   NaN   \n",
      "17                    NaN                   NaN   \n",
      "\n",
      "                                           Location_y  \\\n",
      "1   5410 S STATE ST\\nChicago, Illinois 60609\\n(41....   \n",
      "3   3986 W BARRY AVE\\nChicago, Illinois 60618\\n(41...   \n",
      "6   2714 W AUGUSTA BLVD\\nChicago, Illinois 60622\\n...   \n",
      "16  1817 W 80TH ST\\nChicago, Illinois 60620\\n(41.7...   \n",
      "17  1309 W 95TH ST\\nChicago, Illinois 60643\\n(41.7...   \n",
      "\n",
      "    Total_Performance_Score Is_top_performer  \n",
      "1                  3.948832            False  \n",
      "3                  4.799242            False  \n",
      "6                  7.126505             True  \n",
      "16                 5.357696            False  \n",
      "17                 5.359943            False  \n",
      "\n",
      "[5 rows x 245 columns]\n"
     ]
    },
    {
     "name": "stderr",
     "output_type": "stream",
     "text": [
      "/Users/trevornyman/anaconda/lib/python3.5/site-packages/ipykernel/__main__.py:8: SettingWithCopyWarning: \n",
      "A value is trying to be set on a copy of a slice from a DataFrame.\n",
      "Try using .loc[row_indexer,col_indexer] = value instead\n",
      "\n",
      "See the caveats in the documentation: http://pandas.pydata.org/pandas-docs/stable/indexing.html#indexing-view-versus-copy\n"
     ]
    }
   ],
   "source": [
    "list = []\n",
    "for index, row in full_HS.iterrows():\n",
    "    if row['Total_Performance_Score'] >= 5.788306:\n",
    "        list.append(True)\n",
    "    else:\n",
    "        list.append(False)\n",
    "\n",
    "full_HS['Is_top_performer'] = list\n",
    "\n",
    "print (full_HS.head())"
   ]
  },
  {
   "cell_type": "markdown",
   "metadata": {},
   "source": [
    "Let's check and see which variables are correlated with Total_Performance_Score"
   ]
  },
  {
   "cell_type": "code",
   "execution_count": 11,
   "metadata": {
    "collapsed": false
   },
   "outputs": [
    {
     "name": "stdout",
     "output_type": "stream",
     "text": [
      "School_ID                                      4.083889e-02\n",
      "Zip_x                                         -3.549819e-02\n",
      "Phone_x                                       -1.114116e-03\n",
      "Fax_x                                         -1.202313e-02\n",
      "Progress_Report_Year                                    NaN\n",
      "Blue_Ribbon_Award_Year                         4.861248e-01\n",
      "Excelerate_Award_Gold_Year                              NaN\n",
      "Spot_Light_Award_Year                                   NaN\n",
      "Improvement_Award_Year                        -2.655840e-02\n",
      "Excellence_Award_Year                                   NaN\n",
      "Growth_Reading_Grades_Tested_Pct_ES            5.263717e-01\n",
      "Growth_Math_Grades_Tested_Pct_ES               5.593758e-01\n",
      "Attainment_Reading_Pct_ES                      5.785623e-01\n",
      "Attainment_Math_Pct_ES                         6.581471e-01\n",
      "School_Survey_Student_Response_Rate_Pct        2.836467e-01\n",
      "School_Survey_Student_Response_Rate_Avg_Pct   -4.449825e-16\n",
      "School_Survey_Teacher_Response_Rate_Pct       -2.169280e-01\n",
      "School_Survey_Teacher_Response_Rate_Avg_Pct   -4.061256e-16\n",
      "NWEA_Reading_Growth_Grade_3_Pct                1.000000e+00\n",
      "NWEA_Reading_Growth_Grade_4_Pct               -9.983276e-01\n",
      "NWEA_Reading_Growth_Grade_5_Pct                2.635398e-01\n",
      "NWEA_Reading_Growth_Grade_6_Pct               -1.378193e-01\n",
      "NWEA_Reading_Growth_Grade_7_Pct                6.299749e-01\n",
      "NWEA_Reading_Growth_Grade_8_Pct                5.620044e-01\n",
      "NWEA_Math_Growth_Grade_3_Pct                  -1.000000e+00\n",
      "NWEA_Math_Growth_Grade_4_Pct                  -9.858679e-01\n",
      "NWEA_Math_Growth_Grade_5_Pct                  -7.766340e-01\n",
      "NWEA_Math_Growth_Grade_6_Pct                  -1.078286e-01\n",
      "NWEA_Math_Growth_Grade_7_Pct                   6.692122e-01\n",
      "NWEA_Math_Growth_Grade_8_Pct                   5.498110e-01\n",
      "NWEA_Reading_Attainment_Grade_2_Pct                     NaN\n",
      "NWEA_Reading_Attainment_Grade_3_Pct            1.000000e+00\n",
      "NWEA_Reading_Attainment_Grade_4_Pct           -7.036402e-01\n",
      "NWEA_Reading_Attainment_Grade_5_Pct            1.881619e-01\n",
      "NWEA_Reading_Attainment_Grade_6_Pct            4.783813e-02\n",
      "NWEA_Reading_Attainment_Grade_7_Pct            5.911115e-01\n",
      "NWEA_Reading_Attainment_Grade_8_Pct            7.941957e-01\n",
      "NWEA_Math_Attainment_Grade_2_Pct                        NaN\n",
      "NWEA_Math_Attainment_Grade_3_Pct               1.000000e+00\n",
      "NWEA_Math_Attainment_Grade_4_Pct              -9.979129e-01\n",
      "NWEA_Math_Attainment_Grade_5_Pct              -4.954373e-01\n",
      "NWEA_Math_Attainment_Grade_6_Pct               2.804465e-01\n",
      "NWEA_Math_Attainment_Grade_7_Pct               6.717504e-01\n",
      "NWEA_Math_Attainment_Grade_8_Pct               8.049659e-01\n",
      "Suspensions_Per_100_Students_Year_1_Pct       -4.770404e-01\n",
      "Suspensions_Per_100_Students_Year_2_Pct       -3.833808e-01\n",
      "Suspensions_Per_100_Students_Avg_Pct          -4.449825e-16\n",
      "Misconducts_To_Suspensions_Year_1_Pct         -5.021353e-02\n",
      "Misconducts_To_Suspensions_Year_2_Pct         -1.073235e-01\n",
      "Misconducts_To_Suspensions_Avg_Pct            -3.666754e-16\n",
      "Behavior_Discipline_Year_1                              NaN\n",
      "Behavior_Discipline_Year_2                              NaN\n",
      "Student_Attendance_Year_1_Pct                  6.112043e-01\n",
      "Student_Attendance_Year_2_Pct                  5.763100e-01\n",
      "Student_Attendance_Avg_Pct                     3.757328e-16\n",
      "Teacher_Attendance_Year_1_Pct                  3.814531e-01\n",
      "Teacher_Attendance_Year_2_Pct                  4.195466e-01\n",
      "Teacher_Attendance_Avg_Pct                              NaN\n",
      "One_Year_Dropout_Rate_Year_1_Pct              -5.295077e-01\n",
      "One_Year_Dropout_Rate_Year_2_Pct              -5.432625e-01\n",
      "One_Year_Dropout_Rate_Avg_Pct                 -4.061256e-16\n",
      "Other_Metrics_Year_1                                    NaN\n",
      "Other_Metrics_Year_2                                    NaN\n",
      "Growth_ACT_Grade_11_Pct                        6.575679e-01\n",
      "Attainment_ACT_Grade_11_Pct                    8.583169e-01\n",
      "Freshmen_On_Track_School_Pct_Year_2            3.966240e-01\n",
      "Freshmen_On_Track_CPS_Pct_Year_2              -4.061256e-16\n",
      "Freshmen_On_Track_School_Pct_Year_1            5.615974e-01\n",
      "Freshmen_On_Track_CPS_Pct_Year_1              -4.061256e-16\n",
      "College_Enrollment_School_Pct_Year_2           8.406663e-01\n",
      "College_Enrollment_CPS_Pct_Year_2             -3.732077e-16\n",
      "College_Enrollment_School_Pct_Year_1           8.508949e-01\n",
      "College_Enrollment_CPS_Pct_Year_1             -4.374744e-16\n",
      "College_Persistence_School_Pct_Year_2          7.757911e-01\n",
      "College_Persistence_CPS_Pct_Year_2                      NaN\n",
      "College_Persistence_School_Pct_Year_1          7.415565e-01\n",
      "College_Persistence_CPS_Pct_Year_1            -3.883378e-16\n",
      "Progress_Toward_Graduation_Year_1                       NaN\n",
      "Progress_Toward_Graduation_Year_2                       NaN\n",
      "Mobility_Rate_Pct                             -6.913244e-01\n",
      "Chronic_Truancy_Pct                                     NaN\n",
      "Parent_Survey_Results_Year                     5.572594e-02\n",
      "School_Latitude_x                              1.879622e-01\n",
      "School_Longitude_x                             2.802851e-02\n",
      "Legacy_Unit_ID                                -1.945673e-01\n",
      "Finance_ID                                    -9.857900e-02\n",
      "Zip_y                                         -3.549819e-02\n",
      "Phone_y                                       -1.114116e-03\n",
      "Fax_y                                         -1.202313e-02\n",
      "Student_Count_Total                            5.908705e-01\n",
      "Student_Count_Low_Income                       4.716983e-01\n",
      "Student_Count_Special_Ed                       2.523427e-01\n",
      "Student_Count_English_Learners                 1.321442e-01\n",
      "Student_Count_Black                            2.716841e-01\n",
      "Student_Count_Hispanic                         3.839713e-01\n",
      "Student_Count_White                            4.377441e-01\n",
      "Student_Count_Asian                            4.911301e-01\n",
      "Student_Count_Native_American                  4.338138e-01\n",
      "Student_Count_Other_Ethnicity                           NaN\n",
      "Student_Count_Asian_Pacific_Islander           2.063244e-01\n",
      "Student_Count_Multi                            5.829946e-01\n",
      "Student_Count_Hawaiian_Pacific_Islander        4.404192e-01\n",
      "Student_Count_Ethnicity_Not_Available          2.662779e-01\n",
      "School_Latitude_y                              1.879622e-01\n",
      "School_Longitude_y                             2.802851e-02\n",
      "Average_ACT_School                             8.921099e-01\n",
      "Mean_ACT                                      -3.934077e-16\n",
      "College_Enrollment_Rate_School                 8.481447e-01\n",
      "College_Enrollment_Rate_Mean                   4.351412e-16\n",
      "Graduation_Rate_School                         6.517131e-01\n",
      "Graduation_Rate_Mean                                    NaN\n",
      "Total_Performance_Score                        1.000000e+00\n",
      "Is_top_performer                               7.896482e-01\n",
      "Name: Total_Performance_Score, dtype: float64\n"
     ]
    }
   ],
   "source": [
    "def print_full(x):\n",
    "    pd.set_option('display.max_rows', len(x))\n",
    "    print(x)\n",
    "    pd.reset_option('display.max_rows')\n",
    "    \n",
    "print_full(full_HS.corr()['Total_Performance_Score'])"
   ]
  },
  {
   "cell_type": "markdown",
   "metadata": {},
   "source": [
    "Excluding the variables we used to define Total_Performance_Score, the following variables are correlated (+/-) with TPS .7 or higher: Mobility_Rate_Pct (-).  Though, only about half of the high schools have a value for this variable, and only a quarter of charter high schools include this value."
   ]
  },
  {
   "cell_type": "markdown",
   "metadata": {},
   "source": [
    "## Where are the \"top-performers\" located?\n",
    "\n",
    "Now let's map our schools.  Here's a heatmap of top-performing high schools in the city of chicago."
   ]
  },
  {
   "cell_type": "code",
   "execution_count": 12,
   "metadata": {
    "collapsed": false
   },
   "outputs": [
    {
     "data": {
      "text/html": [
       "<div style=\"width:100%;\"><div style=\"position:relative;width:100%;height:0;padding-bottom:60%;\"><iframe src=\"data:text/html;base64,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\" style=\"position:absolute;width:100%;height:100%;left:0;top:0;\"></iframe></div></div>"
      ],
      "text/plain": [
       "<folium.folium.Map at 0x113863358>"
      ]
     },
     "execution_count": 12,
     "metadata": {},
     "output_type": "execute_result"
    }
   ],
   "source": [
    "import folium\n",
    "from folium import plugins\n",
    "\n",
    "schools_heatmap = folium.Map(location=[full_HS['School_Latitude_x'].mean(), full_HS['School_Longitude_x'].mean()], zoom_start=10)\n",
    "schools_heatmap.add_children(plugins.HeatMap([[row[\"School_Latitude_x\"], row[\"School_Longitude_x\"]] for name, row in full_HS[full_HS['Is_top_performer'] == True].iterrows()]))\n",
    "schools_heatmap.save(\"heatmap.html\")\n",
    "schools_heatmap"
   ]
  },
  {
   "cell_type": "markdown",
   "metadata": {},
   "source": [
    "Here's a regular map."
   ]
  },
  {
   "cell_type": "code",
   "execution_count": 13,
   "metadata": {
    "collapsed": false
   },
   "outputs": [
    {
     "data": {
      "text/html": [
       "<div style=\"width:100%;\"><div style=\"position:relative;width:100%;height:0;padding-bottom:60%;\"><iframe src=\"data:text/html;base64,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\" style=\"position:absolute;width:100%;height:100%;left:0;top:0;\"></iframe></div></div>"
      ],
      "text/plain": [
       "<folium.folium.Map at 0x114aab9e8>"
      ]
     },
     "execution_count": 13,
     "metadata": {},
     "output_type": "execute_result"
    }
   ],
   "source": [
    "schools_map = folium.Map(location=[full_HS['School_Latitude_x'].mean(), full_HS['School_Longitude_x'].mean()], zoom_start=10)\n",
    "marker_cluster = folium.MarkerCluster().add_to(schools_map)\n",
    "for name, row in full_HS[full_HS['Is_top_performer'] == True].iterrows():\n",
    "    folium.Marker([row[\"School_Latitude_x\"], row[\"School_Longitude_x\"]], popup=\"{0}: {1}\".format(row[\"School_ID\"], row[\"School_ID\"])).add_to(marker_cluster)\n",
    "schools_map.save('schools.html')\n",
    "schools_map"
   ]
  },
  {
   "cell_type": "markdown",
   "metadata": {},
   "source": [
    "A simple analysis reveals that there is a disproportionate number of top-performing high schools north of the loop.\n",
    "\n",
    "Here's the same visualization, this time with charter schools."
   ]
  },
  {
   "cell_type": "code",
   "execution_count": 14,
   "metadata": {
    "collapsed": false
   },
   "outputs": [
    {
     "name": "stderr",
     "output_type": "stream",
     "text": [
      "/Users/trevornyman/anaconda/lib/python3.5/site-packages/ipykernel/__main__.py:1: UserWarning: Boolean Series key will be reindexed to match DataFrame index.\n",
      "  if __name__ == '__main__':\n"
     ]
    },
    {
     "data": {
      "text/html": [
       "<div style=\"width:100%;\"><div style=\"position:relative;width:100%;height:0;padding-bottom:60%;\"><iframe src=\"data:text/html;base64,CiAgICAgICAgPCFET0NUWVBFIGh0bWw+CiAgICAgICAgPGhlYWQ+CiAgICAgICAgICAgIAogICAgICAgIAogICAgICAgICAgICA8bWV0YSBodHRwLWVxdWl2PSJjb250ZW50LXR5cGUiIGNvbnRlbnQ9InRleHQvaHRtbDsgY2hhcnNldD1VVEYtOCIgLz4KICAgICAgICAKICAgICAgICAgICAgCiAgICAgICAgCiAgICAgICAgICAgIDxzY3JpcHQgc3JjPSJodHRwczovL2NkbmpzLmNsb3VkZmxhcmUuY29tL2FqYXgvbGlicy9sZWFmbGV0LzAuNy4zL2xlYWZsZXQuanMiPjwvc2NyaXB0PgogICAgICAgIAogICAgICAgIAogICAgICAgIAogICAgICAgICAgICAKICAgICAgICAKICAgICAgICAgICAgPHNjcmlwdCBzcmM9Imh0dHBzOi8vYWpheC5nb29nbGVhcGlzLmNvbS9hamF4L2xpYnMvanF1ZXJ5LzEuMTEuMS9qcXVlcnkubWluLmpzIj48L3NjcmlwdD4KICAgICAgICAKICAgICAgICAKICAgICAgICAKICAgICAgICAgICAgCiAgICAgICAgCiAgICAgICAgICAgIDxzY3JpcHQgc3JjPSJodHRwczovL21heGNkbi5ib290c3RyYXBjZG4uY29tL2Jvb3RzdHJhcC8zLjIuMC9qcy9ib290c3RyYXAubWluLmpzIj48L3NjcmlwdD4KICAgICAgICAKICAgICAgICAKICAgICAgICAKICAgICAgICAgICAgCiAgICAgICAgCiAgICAgICAgICAgIDxzY3JpcHQgc3JjPSJodHRwczovL2NkbmpzLmNsb3VkZmxhcmUuY29tL2FqYXgvbGlicy9MZWFmbGV0LmF3ZXNvbWUtbWFya2Vycy8yLjAuMi9sZWFmbGV0LmF3ZXNvbWUtbWFya2Vycy5taW4uanMiPjwvc2NyaXB0PgogICAgICAgIAogICAgICAgIAogICAgICAgIAogICAgICAgICAgICAKICAgICAgICAKICAgICAgICAgICAgPHNjcmlwdCBzcmM9Imh0dHBzOi8vY2RuanMuY2xvdWRmbGFyZS5jb20vYWpheC9saWJzL2xlYWZsZXQubWFya2VyY2x1c3Rlci8wLjQuMC9sZWFmbGV0Lm1hcmtlcmNsdXN0ZXItc3JjLmpzIj48L3NjcmlwdD4KICAgICAgICAKICAgICAgICAKICAgICAgICAKICAgICAgICAgICAgCiAgICAgICAgCiAgICAgICAgICAgIDxzY3JpcHQgc3JjPSJodHRwczovL2NkbmpzLmNsb3VkZmxhcmUuY29tL2FqYXgvbGlicy9sZWFmbGV0Lm1hcmtlcmNsdXN0ZXIvMC40LjAvbGVhZmxldC5tYXJrZXJjbHVzdGVyLmpzIj48L3NjcmlwdD4KICAgICAgICAKICAgICAgICAKICAgICAgICAKICAgICAgICAgICAgCiAgICAgICAgCiAgICAgICAgICAgIDxsaW5rIHJlbD0ic3R5bGVzaGVldCIgaHJlZj0iaHR0cHM6Ly9jZG5qcy5jbG91ZGZsYXJlLmNvbS9hamF4L2xpYnMvbGVhZmxldC8wLjcuMy9sZWFmbGV0LmNzcyIgLz4KICAgICAgICAKICAgICAgICAKICAgICAgICAKICAgICAgICAgICAgCiAgICAgICAgCiAgICAgICAgICAgIDxsaW5rIHJlbD0ic3R5bGVzaGVldCIgaHJlZj0iaHR0cHM6Ly9tYXhjZG4uYm9vdHN0cmFwY2RuLmNvbS9ib290c3RyYXAvMy4yLjAvY3NzL2Jvb3RzdHJhcC5taW4uY3NzIiAvPgogICAgICAgIAogICAgICAgIAogICAgICAgIAogICAgICAgICAgICAKICAgICAgICAKICAgICAgICAgICAgPGxpbmsgcmVsPSJzdHlsZXNoZWV0IiBocmVmPSJodHRwczovL21heGNkbi5ib290c3RyYXBjZG4uY29tL2Jvb3RzdHJhcC8zLjIuMC9jc3MvYm9vdHN0cmFwLXRoZW1lLm1pbi5jc3MiIC8+CiAgICAgICAgCiAgICAgICAgCiAgICAgICAgCiAgICAgICAgICAgIAogICAgICAgIAogICAgICAgICAgICA8bGluayByZWw9InN0eWxlc2hlZXQiIGhyZWY9Imh0dHBzOi8vbWF4Y2RuLmJvb3RzdHJhcGNkbi5jb20vZm9udC1hd2Vzb21lLzQuMS4wL2Nzcy9mb250LWF3ZXNvbWUubWluLmNzcyIgLz4KICAgICAgICAKICAgICAgICAKICAgICAgICAKICAgICAgICAgICAgCiAgICAgICAgCiAgICAgICAgICAgIDxsaW5rIHJlbD0ic3R5bGVzaGVldCIgaHJlZj0iaHR0cHM6Ly9jZG5qcy5jbG91ZGZsYXJlLmNvbS9hamF4L2xpYnMvTGVhZmxldC5hd2Vzb21lLW1hcmtlcnMvMi4wLjIvbGVhZmxldC5hd2Vzb21lLW1hcmtlcnMuY3NzIiAvPgogICAgICAgIAogICAgICAgIAogICAgICAgIAogICAgICAgICAgICAKICAgICAgICAKICAgICAgICAgICAgPGxpbmsgcmVsPSJzdHlsZXNoZWV0IiBocmVmPSJodHRwczovL2NkbmpzLmNsb3VkZmxhcmUuY29tL2FqYXgvbGlicy9sZWFmbGV0Lm1hcmtlcmNsdXN0ZXIvMC40LjAvTWFya2VyQ2x1c3Rlci5EZWZhdWx0LmNzcyIgLz4KICAgICAgICAKICAgICAgICAKICAgICAgICAKICAgICAgICAgICAgCiAgICAgICAgCiAgICAgICAgICAgIDxsaW5rIHJlbD0ic3R5bGVzaGVldCIgaHJlZj0iaHR0cHM6Ly9jZG5qcy5jbG91ZGZsYXJlLmNvbS9hamF4L2xpYnMvbGVhZmxldC5tYXJrZXJjbHVzdGVyLzAuNC4wL01hcmtlckNsdXN0ZXIuY3NzIiAvPgogICAgICAgIAogICAgICAgIAogICAgICAgIAogICAgICAgICAgICAKICAgICAgICAKICAgICAgICAgICAgPGxpbmsgcmVsPSJzdHlsZXNoZWV0IiBocmVmPSJodHRwczovL3Jhdy5naXRodWJ1c2VyY29udGVudC5jb20vcHl0aG9uLXZpc3VhbGl6YXRpb24vZm9saXVtL21hc3Rlci9mb2xpdW0vdGVtcGxhdGVzL2xlYWZsZXQuYXdlc29tZS5yb3RhdGUuY3NzIiAvPgogICAgICAgIAogICAgICAgIAogICAgICAgIAogICAgICAgICAgICAKICAgICAgICAgICAgPHN0eWxlPgoKICAgICAgICAgICAgaHRtbCwgYm9keSB7CiAgICAgICAgICAgICAgICB3aWR0aDogMTAwJTsKICAgICAgICAgICAgICAgIGhlaWdodDogMTAwJTsKICAgICAgICAgICAgICAgIG1hcmdpbjogMDsKICAgICAgICAgICAgICAgIHBhZGRpbmc6IDA7CiAgICAgICAgICAgICAgICB9CgogICAgICAgICAgICAjbWFwIHsKICAgICAgICAgICAgICAgIHBvc2l0aW9uOmFic29sdXRlOwogICAgICAgICAgICAgICAgdG9wOjA7CiAgICAgICAgICAgICAgICBib3R0b206MDsKICAgICAgICAgICAgICAgIHJpZ2h0OjA7CiAgICAgICAgICAgICAgICBsZWZ0OjA7CiAgICAgICAgICAgICAgICB9CiAgICAgICAgICAgIDwvc3R5bGU+CiAgICAgICAgICAgIAogICAgICAgIAogICAgICAgICAgICAKICAgICAgICAgICAgPHN0eWxlPiAjbWFwXzU5NjcyMWFlOTEzNDQ2ZWZhNTRhMjNlMjdhODk3YTc0IHsKICAgICAgICAgICAgICAgIHBvc2l0aW9uIDogcmVsYXRpdmU7CiAgICAgICAgICAgICAgICB3aWR0aCA6IDEwMC4wJTsKICAgICAgICAgICAgICAgIGhlaWdodDogMTAwLjAlOwogICAgICAgICAgICAgICAgbGVmdDogMC4wJTsKICAgICAgICAgICAgICAgIHRvcDogMC4wJTsKICAgICAgICAgICAgICAgIH0KICAgICAgICAgICAgPC9zdHlsZT4KICAgICAgICAKICAgICAgICAKICAgICAgICAKICAgICAgICA8L2hlYWQ+CiAgICAgICAgPGJvZHk+CiAgICAgICAgICAgIAogICAgICAgIAogICAgICAgICAgICAKICAgICAgICAgICAgPGRpdiBjbGFzcz0iZm9saXVtLW1hcCIgaWQ9Im1hcF81OTY3MjFhZTkxMzQ0NmVmYTU0YTIzZTI3YTg5N2E3NCIgPjwvZGl2PgogICAgICAgIAogICAgICAgIAogICAgICAgIAogICAgICAgIDwvYm9keT4KICAgICAgICA8c2NyaXB0PgogICAgICAgICAgICAKICAgICAgICAKICAgICAgICAgICAgCgogICAgICAgICAgICB2YXIgc291dGhXZXN0ID0gTC5sYXRMbmcoLTkwLCAtMTgwKTsKICAgICAgICAgICAgdmFyIG5vcnRoRWFzdCA9IEwubGF0TG5nKDkwLCAxODApOwogICAgICAgICAgICB2YXIgYm91bmRzID0gTC5sYXRMbmdCb3VuZHMoc291dGhXZXN0LCBub3J0aEVhc3QpOwoKICAgICAgICAgICAgdmFyIG1hcF81OTY3MjFhZTkxMzQ0NmVmYTU0YTIzZTI3YTg5N2E3NCA9IEwubWFwKCdtYXBfNTk2NzIxYWU5MTM0NDZlZmE1NGEyM2UyN2E4OTdhNzQnLCB7CiAgICAgICAgICAgICAgICAgICAgICAgICAgICAgICAgICAgICAgICAgICBjZW50ZXI6WzQxLjg0MjIyOTczOTM2MTcyLC04Ny42NzM4NjcyNzY1OTU3XSwKICAgICAgICAgICAgICAgICAgICAgICAgICAgICAgICAgICAgICAgICAgIHpvb206IDEwLAogICAgICAgICAgICAgICAgICAgICAgICAgICAgICAgICAgICAgICAgICAgbWF4Qm91bmRzOiBib3VuZHMsCiAgICAgICAgICAgICAgICAgICAgICAgICAgICAgICAgICAgICAgICAgICBsYXllcnM6IFtdLAogICAgICAgICAgICAgICAgICAgICAgICAgICAgICAgICAgICAgICAgICAgY3JzOiBMLkNSUy5FUFNHMzg1NwogICAgICAgICAgICAgICAgICAgICAgICAgICAgICAgICAgICAgICAgIH0pOwogICAgICAgICAgICAKICAgICAgICAKICAgICAgICAKICAgICAgICAgICAgCiAgICAgICAgICAgIHZhciB0aWxlX2xheWVyXzY1YmMyN2U4NmJjYTRmY2ZiMjI0ZTQyN2RlOWRiODQ3ID0gTC50aWxlTGF5ZXIoCiAgICAgICAgICAgICAgICAnaHR0cHM6Ly97c30udGlsZS5vcGVuc3RyZWV0bWFwLm9yZy97en0ve3h9L3t5fS5wbmcnLAogICAgICAgICAgICAgICAgewogICAgICAgICAgICAgICAgICAgIG1heFpvb206IDE4LAogICAgICAgICAgICAgICAgICAgIG1pblpvb206IDEsCiAgICAgICAgICAgICAgICAgICAgYXR0cmlidXRpb246ICdEYXRhIGJ5IDxhIGhyZWY9Imh0dHA6Ly9vcGVuc3RyZWV0bWFwLm9yZyI+T3BlblN0cmVldE1hcDwvYT4sIHVuZGVyIDxhIGhyZWY9Imh0dHA6Ly93d3cub3BlbnN0cmVldG1hcC5vcmcvY29weXJpZ2h0Ij5PRGJMPC9hPi4nLAogICAgICAgICAgICAgICAgICAgIGRldGVjdFJldGluYTogZmFsc2UKICAgICAgICAgICAgICAgICAgICB9CiAgICAgICAgICAgICAgICApLmFkZFRvKG1hcF81OTY3MjFhZTkxMzQ0NmVmYTU0YTIzZTI3YTg5N2E3NCk7CgogICAgICAgIAogICAgICAgIAogICAgICAgICAgICAKICAgICAgICAgICAgdmFyIG1hcmtlcl9jbHVzdGVyXzg0YzRkZjFkZWQ1YzQ4ZjVhNzg4Zjc4MDEzNmRjZGUxID0gTC5tYXJrZXJDbHVzdGVyR3JvdXAoKTsKICAgICAgICAgICAgbWFwXzU5NjcyMWFlOTEzNDQ2ZWZhNTRhMjNlMjdhODk3YTc0LmFkZExheWVyKG1hcmtlcl9jbHVzdGVyXzg0YzRkZjFkZWQ1YzQ4ZjVhNzg4Zjc4MDEzNmRjZGUxKTsKICAgICAgICAgICAgCiAgICAgICAgCiAgICAgICAgICAgIAoKICAgICAgICAgICAgdmFyIG1hcmtlcl9jYTAzNTUwYTNkY2E0NWJmODEzYTAzZWI1MDdmMDk2MCA9IEwubWFya2VyKAogICAgICAgICAgICAgICAgWzQxLjk5MDI0NSwtODcuNzI2NTA0XSwKICAgICAgICAgICAgICAgIHsKICAgICAgICAgICAgICAgICAgICBpY29uOiBuZXcgTC5JY29uLkRlZmF1bHQoKQogICAgICAgICAgICAgICAgICAgIH0KICAgICAgICAgICAgICAgICkKICAgICAgICAgICAgICAgIC5hZGRUbyhtYXJrZXJfY2x1c3Rlcl84NGM0ZGYxZGVkNWM0OGY1YTc4OGY3ODAxMzZkY2RlMSk7CiAgICAgICAgICAgIAogICAgICAgIAogICAgICAgICAgICAKICAgICAgICAgICAgdmFyIHBvcHVwXzMyZTE5NDI5MmJjZDRhMTlhM2JkZjhhMWY2Zjk4ODE0ID0gTC5wb3B1cCh7bWF4V2lkdGg6ICczMDAnfSk7CgogICAgICAgICAgICAKICAgICAgICAgICAgICAgIHZhciBodG1sXzU5NmRjZjQ3NGE3ZTQ3Mzc4NmYwOTFkYmE4NGVhODMwID0gJCgnICAgICAgICAgPGRpdiBpZD0iaHRtbF81OTZkY2Y0NzRhN2U0NzM3ODZmMDkxZGJhODRlYTgzMCIgICAgICAgICAgICAgICAgIHN0eWxlPSJ3aWR0aDogMTAwLjAlOyBoZWlnaHQ6IDEwMC4wJTsiPiAgICAgICAgICAgICAgICAgNDAwMDM0OiA0MDAwMzQ8L2Rpdj4gICAgICAgICAgICAgICAgICcpWzBdOwogICAgICAgICAgICAgICAgcG9wdXBfMzJlMTk0MjkyYmNkNGExOWEzYmRmOGExZjZmOTg4MTQuc2V0Q29udGVudChodG1sXzU5NmRjZjQ3NGE3ZTQ3Mzc4NmYwOTFkYmE4NGVhODMwKTsKICAgICAgICAgICAgCgogICAgICAgICAgICBtYXJrZXJfY2EwMzU1MGEzZGNhNDViZjgxM2EwM2ViNTA3ZjA5NjAuYmluZFBvcHVwKHBvcHVwXzMyZTE5NDI5MmJjZDRhMTlhM2JkZjhhMWY2Zjk4ODE0KTsKCiAgICAgICAgICAgIAogICAgICAgIAogICAgICAgIAogICAgICAgICAgICAKCiAgICAgICAgICAgIHZhciBtYXJrZXJfNWJiZDRlODEzMWNiNDA2MjhhMTNhNTllY2RjYWI3YjQgPSBMLm1hcmtlcigKICAgICAgICAgICAgICAgIFs0Mi4wMTMwMzEsLTg3LjY3NDgxOF0sCiAgICAgICAgICAgICAgICB7CiAgICAgICAgICAgICAgICAgICAgaWNvbjogbmV3IEwuSWNvbi5EZWZhdWx0KCkKICAgICAgICAgICAgICAgICAgICB9CiAgICAgICAgICAgICAgICApCiAgICAgICAgICAgICAgICAuYWRkVG8obWFya2VyX2NsdXN0ZXJfODRjNGRmMWRlZDVjNDhmNWE3ODhmNzgwMTM2ZGNkZTEpOwogICAgICAgICAgICAKICAgICAgICAKICAgICAgICAgICAgCiAgICAgICAgICAgIHZhciBwb3B1cF9kMWVmNmM5YTZmNDI0MWUyODA5NDkxMDI1N2Q4NGNhOSA9IEwucG9wdXAoe21heFdpZHRoOiAnMzAwJ30pOwoKICAgICAgICAgICAgCiAgICAgICAgICAgICAgICB2YXIgaHRtbF8xMTc3YTY2MDM3MmM0NGY5ODAwMDE0ZWU5MWQ1NGFhNiA9ICQoJyAgICAgICAgIDxkaXYgaWQ9Imh0bWxfMTE3N2E2NjAzNzJjNDRmOTgwMDAxNGVlOTFkNTRhYTYiICAgICAgICAgICAgICAgICBzdHlsZT0id2lkdGg6IDEwMC4wJTsgaGVpZ2h0OiAxMDAuMCU7Ij4gICAgICAgICAgICAgICAgIDQwMDAzNTogNDAwMDM1PC9kaXY+ICAgICAgICAgICAgICAgICAnKVswXTsKICAgICAgICAgICAgICAgIHBvcHVwX2QxZWY2YzlhNmY0MjQxZTI4MDk0OTEwMjU3ZDg0Y2E5LnNldENvbnRlbnQoaHRtbF8xMTc3YTY2MDM3MmM0NGY5ODAwMDE0ZWU5MWQ1NGFhNik7CiAgICAgICAgICAgIAoKICAgICAgICAgICAgbWFya2VyXzViYmQ0ZTgxMzFjYjQwNjI4YTEzYTU5ZWNkY2FiN2I0LmJpbmRQb3B1cChwb3B1cF9kMWVmNmM5YTZmNDI0MWUyODA5NDkxMDI1N2Q4NGNhOSk7CgogICAgICAgICAgICAKICAgICAgICAKICAgICAgICAKICAgICAgICAgICAgCgogICAgICAgICAgICB2YXIgbWFya2VyX2ZhZjVlZDk1ZmJiOTQ4Y2NhNzdmYTFlNTFkZDhmNWNiID0gTC5tYXJrZXIoCiAgICAgICAgICAgICAgICBbNDEuODgwNTUsLTg3LjY0OTc3Ml0sCiAgICAgICAgICAgICAgICB7CiAgICAgICAgICAgICAgICAgICAgaWNvbjogbmV3IEwuSWNvbi5EZWZhdWx0KCkKICAgICAgICAgICAgICAgICAgICB9CiAgICAgICAgICAgICAgICApCiAgICAgICAgICAgICAgICAuYWRkVG8obWFya2VyX2NsdXN0ZXJfODRjNGRmMWRlZDVjNDhmNWE3ODhmNzgwMTM2ZGNkZTEpOwogICAgICAgICAgICAKICAgICAgICAKICAgICAgICAgICAgCiAgICAgICAgICAgIHZhciBwb3B1cF9hYjFlMmYyMTkxNjU0ZGFhYjA0MjkxM2MwZGUwZTY2OCA9IEwucG9wdXAoe21heFdpZHRoOiAnMzAwJ30pOwoKICAgICAgICAgICAgCiAgICAgICAgICAgICAgICB2YXIgaHRtbF80OTYzNWQwOWFiMDI0ZmQ1ODhjZGFhOThmYmU5NDlhMyA9ICQoJyAgICAgICAgIDxkaXYgaWQ9Imh0bWxfNDk2MzVkMDlhYjAyNGZkNTg4Y2RhYTk4ZmJlOTQ5YTMiICAgICAgICAgICAgICAgICBzdHlsZT0id2lkdGg6IDEwMC4wJTsgaGVpZ2h0OiAxMDAuMCU7Ij4gICAgICAgICAgICAgICAgIDQwMDAzNjogNDAwMDM2PC9kaXY+ICAgICAgICAgICAgICAgICAnKVswXTsKICAgICAgICAgICAgICAgIHBvcHVwX2FiMWUyZjIxOTE2NTRkYWFiMDQyOTEzYzBkZTBlNjY4LnNldENvbnRlbnQoaHRtbF80OTYzNWQwOWFiMDI0ZmQ1ODhjZGFhOThmYmU5NDlhMyk7CiAgICAgICAgICAgIAoKICAgICAgICAgICAgbWFya2VyX2ZhZjVlZDk1ZmJiOTQ4Y2NhNzdmYTFlNTFkZDhmNWNiLmJpbmRQb3B1cChwb3B1cF9hYjFlMmYyMTkxNjU0ZGFhYjA0MjkxM2MwZGUwZTY2OCk7CgogICAgICAgICAgICAKICAgICAgICAKICAgICAgICAKICAgICAgICAgICAgCgogICAgICAgICAgICB2YXIgbWFya2VyX2Q1NmVkNDhlMzcwODQ3NTFiNTJlYTFlNjBmZWFkYjJjID0gTC5tYXJrZXIoCiAgICAgICAgICAgICAgICBbNDEuOTAwMTkxLC04Ny42NjI2MjhdLAogICAgICAgICAgICAgICAgewogICAgICAgICAgICAgICAgICAgIGljb246IG5ldyBMLkljb24uRGVmYXVsdCgpCiAgICAgICAgICAgICAgICAgICAgfQogICAgICAgICAgICAgICAgKQogICAgICAgICAgICAgICAgLmFkZFRvKG1hcmtlcl9jbHVzdGVyXzg0YzRkZjFkZWQ1YzQ4ZjVhNzg4Zjc4MDEzNmRjZGUxKTsKICAgICAgICAgICAgCiAgICAgICAgCiAgICAgICAgICAgIAogICAgICAgICAgICB2YXIgcG9wdXBfZTE4ZDcwOWNmY2E2NDJlMWEzZjc0NTBhMzM5ZTNlM2QgPSBMLnBvcHVwKHttYXhXaWR0aDogJzMwMCd9KTsKCiAgICAgICAgICAgIAogICAgICAgICAgICAgICAgdmFyIGh0bWxfOWY0Y2UwMzFhY2IyNGQ1YTk1OWRkMDQ5MmNmZWMxMjkgPSAkKCcgICAgICAgICA8ZGl2IGlkPSJodG1sXzlmNGNlMDMxYWNiMjRkNWE5NTlkZDA0OTJjZmVjMTI5IiAgICAgICAgICAgICAgICAgc3R5bGU9IndpZHRoOiAxMDAuMCU7IGhlaWdodDogMTAwLjAlOyI+ICAgICAgICAgICAgICAgICA0MDAwNTE6IDQwMDA1MTwvZGl2PiAgICAgICAgICAgICAgICAgJylbMF07CiAgICAgICAgICAgICAgICBwb3B1cF9lMThkNzA5Y2ZjYTY0MmUxYTNmNzQ1MGEzMzllM2UzZC5zZXRDb250ZW50KGh0bWxfOWY0Y2UwMzFhY2IyNGQ1YTk1OWRkMDQ5MmNmZWMxMjkpOwogICAgICAgICAgICAKCiAgICAgICAgICAgIG1hcmtlcl9kNTZlZDQ4ZTM3MDg0NzUxYjUyZWExZTYwZmVhZGIyYy5iaW5kUG9wdXAocG9wdXBfZTE4ZDcwOWNmY2E2NDJlMWEzZjc0NTBhMzM5ZTNlM2QpOwoKICAgICAgICAgICAgCiAgICAgICAgCiAgICAgICAgCiAgICAgICAgICAgIAoKICAgICAgICAgICAgdmFyIG1hcmtlcl9jMzk5OTAyMWM3YjA0N2Q4OWNmMTNjY2M4MzMzZmViNyA9IEwubWFya2VyKAogICAgICAgICAgICAgICAgWzQxLjc2NDA4MywtODcuNjAxOTc0XSwKICAgICAgICAgICAgICAgIHsKICAgICAgICAgICAgICAgICAgICBpY29uOiBuZXcgTC5JY29uLkRlZmF1bHQoKQogICAgICAgICAgICAgICAgICAgIH0KICAgICAgICAgICAgICAgICkKICAgICAgICAgICAgICAgIC5hZGRUbyhtYXJrZXJfY2x1c3Rlcl84NGM0ZGYxZGVkNWM0OGY1YTc4OGY3ODAxMzZkY2RlMSk7CiAgICAgICAgICAgIAogICAgICAgIAogICAgICAgICAgICAKICAgICAgICAgICAgdmFyIHBvcHVwXzg3ZjY1MjI4ZWM5YzQ2ZThhNzllMzFmMGFiMzgyMjY3ID0gTC5wb3B1cCh7bWF4V2lkdGg6ICczMDAnfSk7CgogICAgICAgICAgICAKICAgICAgICAgICAgICAgIHZhciBodG1sX2FjN2FiZGIyODk1YzRhZDc4YjljNDJiOWFmN2JmMTZiID0gJCgnICAgICAgICAgPGRpdiBpZD0iaHRtbF9hYzdhYmRiMjg5NWM0YWQ3OGI5YzQyYjlhZjdiZjE2YiIgICAgICAgICAgICAgICAgIHN0eWxlPSJ3aWR0aDogMTAwLjAlOyBoZWlnaHQ6IDEwMC4wJTsiPiAgICAgICAgICAgICAgICAgNDAwMDUyOiA0MDAwNTI8L2Rpdj4gICAgICAgICAgICAgICAgICcpWzBdOwogICAgICAgICAgICAgICAgcG9wdXBfODdmNjUyMjhlYzljNDZlOGE3OWUzMWYwYWIzODIyNjcuc2V0Q29udGVudChodG1sX2FjN2FiZGIyODk1YzRhZDc4YjljNDJiOWFmN2JmMTZiKTsKICAgICAgICAgICAgCgogICAgICAgICAgICBtYXJrZXJfYzM5OTkwMjFjN2IwNDdkODljZjEzY2NjODMzM2ZlYjcuYmluZFBvcHVwKHBvcHVwXzg3ZjY1MjI4ZWM5YzQ2ZThhNzllMzFmMGFiMzgyMjY3KTsKCiAgICAgICAgICAgIAogICAgICAgIAogICAgICAgIAogICAgICAgICAgICAKCiAgICAgICAgICAgIHZhciBtYXJrZXJfNjk1MGZmOGRmYzkxNDE1MGI5Mjk4ZDQ0NjBiZDBlM2IgPSBMLm1hcmtlcigKICAgICAgICAgICAgICAgIFs0MS44OTUyODIsLTg3LjY2NDQ4Mjk5OTk5OTk5XSwKICAgICAgICAgICAgICAgIHsKICAgICAgICAgICAgICAgICAgICBpY29uOiBuZXcgTC5JY29uLkRlZmF1bHQoKQogICAgICAgICAgICAgICAgICAgIH0KICAgICAgICAgICAgICAgICkKICAgICAgICAgICAgICAgIC5hZGRUbyhtYXJrZXJfY2x1c3Rlcl84NGM0ZGYxZGVkNWM0OGY1YTc4OGY3ODAxMzZkY2RlMSk7CiAgICAgICAgICAgIAogICAgICAgIAogICAgICAgICAgICAKICAgICAgICAgICAgdmFyIHBvcHVwXzNjOTJmYjVmYWYzZTQwN2Q4NzQwMjdhZmU3ODk2OTE3ID0gTC5wb3B1cCh7bWF4V2lkdGg6ICczMDAnfSk7CgogICAgICAgICAgICAKICAgICAgICAgICAgICAgIHZhciBodG1sX2EyNDNmNjNlYjdlMjRjNTU4NjZiODFmZTg3ZTAyZjgxID0gJCgnICAgICAgICAgPGRpdiBpZD0iaHRtbF9hMjQzZjYzZWI3ZTI0YzU1ODY2YjgxZmU4N2UwMmY4MSIgICAgICAgICAgICAgICAgIHN0eWxlPSJ3aWR0aDogMTAwLjAlOyBoZWlnaHQ6IDEwMC4wJTsiPiAgICAgICAgICAgICAgICAgNDAwMDUzOiA0MDAwNTM8L2Rpdj4gICAgICAgICAgICAgICAgICcpWzBdOwogICAgICAgICAgICAgICAgcG9wdXBfM2M5MmZiNWZhZjNlNDA3ZDg3NDAyN2FmZTc4OTY5MTcuc2V0Q29udGVudChodG1sX2EyNDNmNjNlYjdlMjRjNTU4NjZiODFmZTg3ZTAyZjgxKTsKICAgICAgICAgICAgCgogICAgICAgICAgICBtYXJrZXJfNjk1MGZmOGRmYzkxNDE1MGI5Mjk4ZDQ0NjBiZDBlM2IuYmluZFBvcHVwKHBvcHVwXzNjOTJmYjVmYWYzZTQwN2Q4NzQwMjdhZmU3ODk2OTE3KTsKCiAgICAgICAgICAgIAogICAgICAgIAogICAgICAgIAogICAgICAgICAgICAKCiAgICAgICAgICAgIHZhciBtYXJrZXJfMTJhMDE4MDA1OGIzNGU4YmE0MDBiZDI1NTQ0MDk0YmEgPSBMLm1hcmtlcigKICAgICAgICAgICAgICAgIFs0MS45MTUyMTQsLTg3LjczMDEyN10sCiAgICAgICAgICAgICAgICB7CiAgICAgICAgICAgICAgICAgICAgaWNvbjogbmV3IEwuSWNvbi5EZWZhdWx0KCkKICAgICAgICAgICAgICAgICAgICB9CiAgICAgICAgICAgICAgICApCiAgICAgICAgICAgICAgICAuYWRkVG8obWFya2VyX2NsdXN0ZXJfODRjNGRmMWRlZDVjNDhmNWE3ODhmNzgwMTM2ZGNkZTEpOwogICAgICAgICAgICAKICAgICAgICAKICAgICAgICAgICAgCiAgICAgICAgICAgIHZhciBwb3B1cF8yNTA2NDI1MmY2NTY0MTZiOTYzMWFhZjViNmFlZDUxMCA9IEwucG9wdXAoe21heFdpZHRoOiAnMzAwJ30pOwoKICAgICAgICAgICAgCiAgICAgICAgICAgICAgICB2YXIgaHRtbF81ZmI2OTk2MDM0ODk0NDliODc0NGRiMzBhZTZkNjkwNSA9ICQoJyAgICAgICAgIDxkaXYgaWQ9Imh0bWxfNWZiNjk5NjAzNDg5NDQ5Yjg3NDRkYjMwYWU2ZDY5MDUiICAgICAgICAgICAgICAgICBzdHlsZT0id2lkdGg6IDEwMC4wJTsgaGVpZ2h0OiAxMDAuMCU7Ij4gICAgICAgICAgICAgICAgIDQwMDA1NDogNDAwMDU0PC9kaXY+ICAgICAgICAgICAgICAgICAnKVswXTsKICAgICAgICAgICAgICAgIHBvcHVwXzI1MDY0MjUyZjY1NjQxNmI5NjMxYWFmNWI2YWVkNTEwLnNldENvbnRlbnQoaHRtbF81ZmI2OTk2MDM0ODk0NDliODc0NGRiMzBhZTZkNjkwNSk7CiAgICAgICAgICAgIAoKICAgICAgICAgICAgbWFya2VyXzEyYTAxODAwNThiMzRlOGJhNDAwYmQyNTU0NDA5NGJhLmJpbmRQb3B1cChwb3B1cF8yNTA2NDI1MmY2NTY0MTZiOTYzMWFhZjViNmFlZDUxMCk7CgogICAgICAgICAgICAKICAgICAgICAKICAgICAgICAKICAgICAgICAgICAgCgogICAgICAgICAgICB2YXIgbWFya2VyXzMwMmJlYTk3NTJjOTQ4NWJiMmI5M2I5ZmM0YjRhYjZiID0gTC5tYXJrZXIoCiAgICAgICAgICAgICAgICBbNDEuODkyNDI1LC04Ny42NjA4NTldLAogICAgICAgICAgICAgICAgewogICAgICAgICAgICAgICAgICAgIGljb246IG5ldyBMLkljb24uRGVmYXVsdCgpCiAgICAgICAgICAgICAgICAgICAgfQogICAgICAgICAgICAgICAgKQogICAgICAgICAgICAgICAgLmFkZFRvKG1hcmtlcl9jbHVzdGVyXzg0YzRkZjFkZWQ1YzQ4ZjVhNzg4Zjc4MDEzNmRjZGUxKTsKICAgICAgICAgICAgCiAgICAgICAgCiAgICAgICAgICAgIAogICAgICAgICAgICB2YXIgcG9wdXBfNjhiZTBjM2VkMzhkNDhjNTkzMTZjMzQwYjI1NWNkNWYgPSBMLnBvcHVwKHttYXhXaWR0aDogJzMwMCd9KTsKCiAgICAgICAgICAgIAogICAgICAgICAgICAgICAgdmFyIGh0bWxfYWFhNGQ4ZDM1MTg4NGUwZWJiZDhiY2U0NTFlODBhMDYgPSAkKCcgICAgICAgICA8ZGl2IGlkPSJodG1sX2FhYTRkOGQzNTE4ODRlMGViYmQ4YmNlNDUxZTgwYTA2IiAgICAgICAgICAgICAgICAgc3R5bGU9IndpZHRoOiAxMDAuMCU7IGhlaWdodDogMTAwLjAlOyI+ICAgICAgICAgICAgICAgICA0MDAwNTU6IDQwMDA1NTwvZGl2PiAgICAgICAgICAgICAgICAgJylbMF07CiAgICAgICAgICAgICAgICBwb3B1cF82OGJlMGMzZWQzOGQ0OGM1OTMxNmMzNDBiMjU1Y2Q1Zi5zZXRDb250ZW50KGh0bWxfYWFhNGQ4ZDM1MTg4NGUwZWJiZDhiY2U0NTFlODBhMDYpOwogICAgICAgICAgICAKCiAgICAgICAgICAgIG1hcmtlcl8zMDJiZWE5NzUyYzk0ODViYjJiOTNiOWZjNGI0YWI2Yi5iaW5kUG9wdXAocG9wdXBfNjhiZTBjM2VkMzhkNDhjNTkzMTZjMzQwYjI1NWNkNWYpOwoKICAgICAgICAgICAgCiAgICAgICAgCiAgICAgICAgCiAgICAgICAgICAgIAoKICAgICAgICAgICAgdmFyIG1hcmtlcl81M2E4ODc5Y2YwNzU0NTlhOGEyMTMxOGUzMGVhZTFiYiA9IEwubWFya2VyKAogICAgICAgICAgICAgICAgWzQxLjg5NTM2MiwtODcuNzE4MDQ3XSwKICAgICAgICAgICAgICAgIHsKICAgICAgICAgICAgICAgICAgICBpY29uOiBuZXcgTC5JY29uLkRlZmF1bHQoKQogICAgICAgICAgICAgICAgICAgIH0KICAgICAgICAgICAgICAgICkKICAgICAgICAgICAgICAgIC5hZGRUbyhtYXJrZXJfY2x1c3Rlcl84NGM0ZGYxZGVkNWM0OGY1YTc4OGY3ODAxMzZkY2RlMSk7CiAgICAgICAgICAgIAogICAgICAgIAogICAgICAgICAgICAKICAgICAgICAgICAgdmFyIHBvcHVwX2ViYTFkNmQ1N2U3MjQ5ZTBiMzc2Y2ViZGFiYjA5NTdlID0gTC5wb3B1cCh7bWF4V2lkdGg6ICczMDAnfSk7CgogICAgICAgICAgICAKICAgICAgICAgICAgICAgIHZhciBodG1sX2NiOGRhZTM0MzQ2MzRlMGY4ZTdhNDkxZDBjNTE1N2U1ID0gJCgnICAgICAgICAgPGRpdiBpZD0iaHRtbF9jYjhkYWUzNDM0NjM0ZTBmOGU3YTQ5MWQwYzUxNTdlNSIgICAgICAgICAgICAgICAgIHN0eWxlPSJ3aWR0aDogMTAwLjAlOyBoZWlnaHQ6IDEwMC4wJTsiPiAgICAgICAgICAgICAgICAgNDAwMDU2OiA0MDAwNTY8L2Rpdj4gICAgICAgICAgICAgICAgICcpWzBdOwogICAgICAgICAgICAgICAgcG9wdXBfZWJhMWQ2ZDU3ZTcyNDllMGIzNzZjZWJkYWJiMDk1N2Uuc2V0Q29udGVudChodG1sX2NiOGRhZTM0MzQ2MzRlMGY4ZTdhNDkxZDBjNTE1N2U1KTsKICAgICAgICAgICAgCgogICAgICAgICAgICBtYXJrZXJfNTNhODg3OWNmMDc1NDU5YThhMjEzMThlMzBlYWUxYmIuYmluZFBvcHVwKHBvcHVwX2ViYTFkNmQ1N2U3MjQ5ZTBiMzc2Y2ViZGFiYjA5NTdlKTsKCiAgICAgICAgICAgIAogICAgICAgIAogICAgICAgIAogICAgICAgICAgICAKCiAgICAgICAgICAgIHZhciBtYXJrZXJfNzg2MDk5NWE2ODE1NDk4NTgxOGY1NTJiN2IzNzY1ZmUgPSBMLm1hcmtlcigKICAgICAgICAgICAgICAgIFs0MS44NjU4MTcsLTg3LjY3NjExMDk5OTk5OTk5XSwKICAgICAgICAgICAgICAgIHsKICAgICAgICAgICAgICAgICAgICBpY29uOiBuZXcgTC5JY29uLkRlZmF1bHQoKQogICAgICAgICAgICAgICAgICAgIH0KICAgICAgICAgICAgICAgICkKICAgICAgICAgICAgICAgIC5hZGRUbyhtYXJrZXJfY2x1c3Rlcl84NGM0ZGYxZGVkNWM0OGY1YTc4OGY3ODAxMzZkY2RlMSk7CiAgICAgICAgICAgIAogICAgICAgIAogICAgICAgICAgICAKICAgICAgICAgICAgdmFyIHBvcHVwXzg4YTA5NzFkZjMwNjQ0ZmU4NjJiMGU2OGQ2NDQ3NGMzID0gTC5wb3B1cCh7bWF4V2lkdGg6ICczMDAnfSk7CgogICAgICAgICAgICAKICAgICAgICAgICAgICAgIHZhciBodG1sX2VkNDFlYjU4YmE3ODRkMTdiMTU5ZGI4MWY4MTRmMTFkID0gJCgnICAgICAgICAgPGRpdiBpZD0iaHRtbF9lZDQxZWI1OGJhNzg0ZDE3YjE1OWRiODFmODE0ZjExZCIgICAgICAgICAgICAgICAgIHN0eWxlPSJ3aWR0aDogMTAwLjAlOyBoZWlnaHQ6IDEwMC4wJTsiPiAgICAgICAgICAgICAgICAgNDAwMDU3OiA0MDAwNTc8L2Rpdj4gICAgICAgICAgICAgICAgICcpWzBdOwogICAgICAgICAgICAgICAgcG9wdXBfODhhMDk3MWRmMzA2NDRmZTg2MmIwZTY4ZDY0NDc0YzMuc2V0Q29udGVudChodG1sX2VkNDFlYjU4YmE3ODRkMTdiMTU5ZGI4MWY4MTRmMTFkKTsKICAgICAgICAgICAgCgogICAgICAgICAgICBtYXJrZXJfNzg2MDk5NWE2ODE1NDk4NTgxOGY1NTJiN2IzNzY1ZmUuYmluZFBvcHVwKHBvcHVwXzg4YTA5NzFkZjMwNjQ0ZmU4NjJiMGU2OGQ2NDQ3NGMzKTsKCiAgICAgICAgICAgIAogICAgICAgIAogICAgICAgIAogICAgICAgICAgICAKCiAgICAgICAgICAgIHZhciBtYXJrZXJfMTRkMDYyNDgyNjM4NDE2ZmFlZjdlMDhjYTVjZDdlY2EgPSBMLm1hcmtlcigKICAgICAgICAgICAgICAgIFs0MS44NTU5OTksLTg3LjYyODUzMTAwMDAwMDAxXSwKICAgICAgICAgICAgICAgIHsKICAgICAgICAgICAgICAgICAgICBpY29uOiBuZXcgTC5JY29uLkRlZmF1bHQoKQogICAgICAgICAgICAgICAgICAgIH0KICAgICAgICAgICAgICAgICkKICAgICAgICAgICAgICAgIC5hZGRUbyhtYXJrZXJfY2x1c3Rlcl84NGM0ZGYxZGVkNWM0OGY1YTc4OGY3ODAxMzZkY2RlMSk7CiAgICAgICAgICAgIAogICAgICAgIAogICAgICAgICAgICAKICAgICAgICAgICAgdmFyIHBvcHVwXzQ1ZDdhOGQ0ZTNlMjRlODk5YjA0NDIyNjllMWMxYTEzID0gTC5wb3B1cCh7bWF4V2lkdGg6ICczMDAnfSk7CgogICAgICAgICAgICAKICAgICAgICAgICAgICAgIHZhciBodG1sX2MwNDM0MWFjYjI1ZDRkOTdiYjkyM2IzNGVmOTk2NTUwID0gJCgnICAgICAgICAgPGRpdiBpZD0iaHRtbF9jMDQzNDFhY2IyNWQ0ZDk3YmI5MjNiMzRlZjk5NjU1MCIgICAgICAgICAgICAgICAgIHN0eWxlPSJ3aWR0aDogMTAwLjAlOyBoZWlnaHQ6IDEwMC4wJTsiPiAgICAgICAgICAgICAgICAgNDAwMDY0OiA0MDAwNjQ8L2Rpdj4gICAgICAgICAgICAgICAgICcpWzBdOwogICAgICAgICAgICAgICAgcG9wdXBfNDVkN2E4ZDRlM2UyNGU4OTliMDQ0MjI2OWUxYzFhMTMuc2V0Q29udGVudChodG1sX2MwNDM0MWFjYjI1ZDRkOTdiYjkyM2IzNGVmOTk2NTUwKTsKICAgICAgICAgICAgCgogICAgICAgICAgICBtYXJrZXJfMTRkMDYyNDgyNjM4NDE2ZmFlZjdlMDhjYTVjZDdlY2EuYmluZFBvcHVwKHBvcHVwXzQ1ZDdhOGQ0ZTNlMjRlODk5YjA0NDIyNjllMWMxYTEzKTsKCiAgICAgICAgICAgIAogICAgICAgIAogICAgICAgIAogICAgICAgICAgICAKCiAgICAgICAgICAgIHZhciBtYXJrZXJfMjYwZDZkMGIzNDY4NDdiZDk3MDI1ODBkNjc4NDliOGUgPSBMLm1hcmtlcigKICAgICAgICAgICAgICAgIFs0MS43NzgxMywtODcuNTk4MTE0XSwKICAgICAgICAgICAgICAgIHsKICAgICAgICAgICAgICAgICAgICBpY29uOiBuZXcgTC5JY29uLkRlZmF1bHQoKQogICAgICAgICAgICAgICAgICAgIH0KICAgICAgICAgICAgICAgICkKICAgICAgICAgICAgICAgIC5hZGRUbyhtYXJrZXJfY2x1c3Rlcl84NGM0ZGYxZGVkNWM0OGY1YTc4OGY3ODAxMzZkY2RlMSk7CiAgICAgICAgICAgIAogICAgICAgIAogICAgICAgICAgICAKICAgICAgICAgICAgdmFyIHBvcHVwX2I5MTJjYjE1ZjEzZDRkMWU4MzhjNGNmMTMxMzg4MjNkID0gTC5wb3B1cCh7bWF4V2lkdGg6ICczMDAnfSk7CgogICAgICAgICAgICAKICAgICAgICAgICAgICAgIHZhciBodG1sXzAwNzJkMzBiYWQ1OTQyNjFhZmUwNjk3YWQ3ZTYyNmFjID0gJCgnICAgICAgICAgPGRpdiBpZD0iaHRtbF8wMDcyZDMwYmFkNTk0MjYxYWZlMDY5N2FkN2U2MjZhYyIgICAgICAgICAgICAgICAgIHN0eWxlPSJ3aWR0aDogMTAwLjAlOyBoZWlnaHQ6IDEwMC4wJTsiPiAgICAgICAgICAgICAgICAgNDAwMDc3OiA0MDAwNzc8L2Rpdj4gICAgICAgICAgICAgICAgICcpWzBdOwogICAgICAgICAgICAgICAgcG9wdXBfYjkxMmNiMTVmMTNkNGQxZTgzOGM0Y2YxMzEzODgyM2Quc2V0Q29udGVudChodG1sXzAwNzJkMzBiYWQ1OTQyNjFhZmUwNjk3YWQ3ZTYyNmFjKTsKICAgICAgICAgICAgCgogICAgICAgICAgICBtYXJrZXJfMjYwZDZkMGIzNDY4NDdiZDk3MDI1ODBkNjc4NDliOGUuYmluZFBvcHVwKHBvcHVwX2I5MTJjYjE1ZjEzZDRkMWU4MzhjNGNmMTMxMzg4MjNkKTsKCiAgICAgICAgICAgIAogICAgICAgIAogICAgICAgIAogICAgICAgICAgICAKCiAgICAgICAgICAgIHZhciBtYXJrZXJfNzVkNDI5MDhmNzgwNGY5MWE2N2FkOTUyZmJmZmRjOTUgPSBMLm1hcmtlcigKICAgICAgICAgICAgICAgIFs0MS44MDkxNzEsLTg3LjczMDQ2N10sCiAgICAgICAgICAgICAgICB7CiAgICAgICAgICAgICAgICAgICAgaWNvbjogbmV3IEwuSWNvbi5EZWZhdWx0KCkKICAgICAgICAgICAgICAgICAgICB9CiAgICAgICAgICAgICAgICApCiAgICAgICAgICAgICAgICAuYWRkVG8obWFya2VyX2NsdXN0ZXJfODRjNGRmMWRlZDVjNDhmNWE3ODhmNzgwMTM2ZGNkZTEpOwogICAgICAgICAgICAKICAgICAgICAKICAgICAgICAgICAgCiAgICAgICAgICAgIHZhciBwb3B1cF80YjY2MzJiNjdkY2Q0MmEzODY5ODU1ZGY0YjlkOGIwYiA9IEwucG9wdXAoe21heFdpZHRoOiAnMzAwJ30pOwoKICAgICAgICAgICAgCiAgICAgICAgICAgICAgICB2YXIgaHRtbF8wOGVhYjNlZTFhMzU0NTM2YmI5ODhlNTdjMzQ5MjMwZSA9ICQoJyAgICAgICAgIDxkaXYgaWQ9Imh0bWxfMDhlYWIzZWUxYTM1NDUzNmJiOTg4ZTU3YzM0OTIzMGUiICAgICAgICAgICAgICAgICBzdHlsZT0id2lkdGg6IDEwMC4wJTsgaGVpZ2h0OiAxMDAuMCU7Ij4gICAgICAgICAgICAgICAgIDQwMDA4NTogNDAwMDg1PC9kaXY+ICAgICAgICAgICAgICAgICAnKVswXTsKICAgICAgICAgICAgICAgIHBvcHVwXzRiNjYzMmI2N2RjZDQyYTM4Njk4NTVkZjRiOWQ4YjBiLnNldENvbnRlbnQoaHRtbF8wOGVhYjNlZTFhMzU0NTM2YmI5ODhlNTdjMzQ5MjMwZSk7CiAgICAgICAgICAgIAoKICAgICAgICAgICAgbWFya2VyXzc1ZDQyOTA4Zjc4MDRmOTFhNjdhZDk1MmZiZmZkYzk1LmJpbmRQb3B1cChwb3B1cF80YjY2MzJiNjdkY2Q0MmEzODY5ODU1ZGY0YjlkOGIwYik7CgogICAgICAgICAgICAKICAgICAgICAKICAgICAgICAKICAgICAgICAgICAgCgogICAgICAgICAgICB2YXIgbWFya2VyXzllMjU1Y2FiZDJiZTQzZGI5NmI2MDAxY2VlMTUxY2U5ID0gTC5tYXJrZXIoCiAgICAgICAgICAgICAgICBbNDEuNzgxNDk4LC04Ny42MzQzNTddLAogICAgICAgICAgICAgICAgewogICAgICAgICAgICAgICAgICAgIGljb246IG5ldyBMLkljb24uRGVmYXVsdCgpCiAgICAgICAgICAgICAgICAgICAgfQogICAgICAgICAgICAgICAgKQogICAgICAgICAgICAgICAgLmFkZFRvKG1hcmtlcl9jbHVzdGVyXzg0YzRkZjFkZWQ1YzQ4ZjVhNzg4Zjc4MDEzNmRjZGUxKTsKICAgICAgICAgICAgCiAgICAgICAgCiAgICAgICAgICAgIAogICAgICAgICAgICB2YXIgcG9wdXBfYzE3OTU5YTk2OTM4NGFiYTgzMDk4NzdlNWMzYjE1Y2YgPSBMLnBvcHVwKHttYXhXaWR0aDogJzMwMCd9KTsKCiAgICAgICAgICAgIAogICAgICAgICAgICAgICAgdmFyIGh0bWxfOTI1YTkyMmMyNTEzNGI0NDljYmZkY2EwMzRmMjBkMWUgPSAkKCcgICAgICAgICA8ZGl2IGlkPSJodG1sXzkyNWE5MjJjMjUxMzRiNDQ5Y2JmZGNhMDM0ZjIwZDFlIiAgICAgICAgICAgICAgICAgc3R5bGU9IndpZHRoOiAxMDAuMCU7IGhlaWdodDogMTAwLjAlOyI+ICAgICAgICAgICAgICAgICA0MDAwODY6IDQwMDA4NjwvZGl2PiAgICAgICAgICAgICAgICAgJylbMF07CiAgICAgICAgICAgICAgICBwb3B1cF9jMTc5NTlhOTY5Mzg0YWJhODMwOTg3N2U1YzNiMTVjZi5zZXRDb250ZW50KGh0bWxfOTI1YTkyMmMyNTEzNGI0NDljYmZkY2EwMzRmMjBkMWUpOwogICAgICAgICAgICAKCiAgICAgICAgICAgIG1hcmtlcl85ZTI1NWNhYmQyYmU0M2RiOTZiNjAwMWNlZTE1MWNlOS5iaW5kUG9wdXAocG9wdXBfYzE3OTU5YTk2OTM4NGFiYTgzMDk4NzdlNWMzYjE1Y2YpOwoKICAgICAgICAgICAgCiAgICAgICAgCiAgICAgICAgCiAgICAgICAgICAgIAoKICAgICAgICAgICAgdmFyIG1hcmtlcl82NWZhM2RjZDgyMzM0NDNhYjcyNGJlZDU4M2NlN2E1ZSA9IEwubWFya2VyKAogICAgICAgICAgICAgICAgWzQxLjg3ODgwOTAwMDAwMDAwNCwtODcuNjc4MTk1XSwKICAgICAgICAgICAgICAgIHsKICAgICAgICAgICAgICAgICAgICBpY29uOiBuZXcgTC5JY29uLkRlZmF1bHQoKQogICAgICAgICAgICAgICAgICAgIH0KICAgICAgICAgICAgICAgICkKICAgICAgICAgICAgICAgIC5hZGRUbyhtYXJrZXJfY2x1c3Rlcl84NGM0ZGYxZGVkNWM0OGY1YTc4OGY3ODAxMzZkY2RlMSk7CiAgICAgICAgICAgIAogICAgICAgIAogICAgICAgICAgICAKICAgICAgICAgICAgdmFyIHBvcHVwX2IxZTZkMmIxZDUzZjQ4ZGQ5NGRjNTg4NmJlZjJlYWFhID0gTC5wb3B1cCh7bWF4V2lkdGg6ICczMDAnfSk7CgogICAgICAgICAgICAKICAgICAgICAgICAgICAgIHZhciBodG1sX2ViZGVjNTVkZGQyMzQzM2Y5NGY1M2VmZTA3NDZmZjA2ID0gJCgnICAgICAgICAgPGRpdiBpZD0iaHRtbF9lYmRlYzU1ZGRkMjM0MzNmOTRmNTNlZmUwNzQ2ZmYwNiIgICAgICAgICAgICAgICAgIHN0eWxlPSJ3aWR0aDogMTAwLjAlOyBoZWlnaHQ6IDEwMC4wJTsiPiAgICAgICAgICAgICAgICAgNDAwMDk3OiA0MDAwOTc8L2Rpdj4gICAgICAgICAgICAgICAgICcpWzBdOwogICAgICAgICAgICAgICAgcG9wdXBfYjFlNmQyYjFkNTNmNDhkZDk0ZGM1ODg2YmVmMmVhYWEuc2V0Q29udGVudChodG1sX2ViZGVjNTVkZGQyMzQzM2Y5NGY1M2VmZTA3NDZmZjA2KTsKICAgICAgICAgICAgCgogICAgICAgICAgICBtYXJrZXJfNjVmYTNkY2Q4MjMzNDQzYWI3MjRiZWQ1ODNjZTdhNWUuYmluZFBvcHVwKHBvcHVwX2IxZTZkMmIxZDUzZjQ4ZGQ5NGRjNTg4NmJlZjJlYWFhKTsKCiAgICAgICAgICAgIAogICAgICAgIAogICAgICAgIAogICAgICAgICAgICAKCiAgICAgICAgICAgIHZhciBtYXJrZXJfZWM3YzE2ODk5NDkyNDc2Yzg1OTg0ODgxNDRjMjM1NzggPSBMLm1hcmtlcigKICAgICAgICAgICAgICAgIFs0MS44ODI3NDAwMDAwMDAwMDUsLTg3LjYyNjMzOF0sCiAgICAgICAgICAgICAgICB7CiAgICAgICAgICAgICAgICAgICAgaWNvbjogbmV3IEwuSWNvbi5EZWZhdWx0KCkKICAgICAgICAgICAgICAgICAgICB9CiAgICAgICAgICAgICAgICApCiAgICAgICAgICAgICAgICAuYWRkVG8obWFya2VyX2NsdXN0ZXJfODRjNGRmMWRlZDVjNDhmNWE3ODhmNzgwMTM2ZGNkZTEpOwogICAgICAgICAgICAKICAgICAgICAKICAgICAgICAgICAgCiAgICAgICAgICAgIHZhciBwb3B1cF81YzdkMjYxYzQ4ZDE0NDMwOGU0M2Q0MTNlYTBiM2JmNCA9IEwucG9wdXAoe21heFdpZHRoOiAnMzAwJ30pOwoKICAgICAgICAgICAgCiAgICAgICAgICAgICAgICB2YXIgaHRtbF81Njc0NDVlMDBmMzY0Mjg0YWRhYTFmNjY2YzBlZGE2OSA9ICQoJyAgICAgICAgIDxkaXYgaWQ9Imh0bWxfNTY3NDQ1ZTAwZjM2NDI4NGFkYWExZjY2NmMwZWRhNjkiICAgICAgICAgICAgICAgICBzdHlsZT0id2lkdGg6IDEwMC4wJTsgaGVpZ2h0OiAxMDAuMCU7Ij4gICAgICAgICAgICAgICAgIDQwMDA5ODogNDAwMDk4PC9kaXY+ICAgICAgICAgICAgICAgICAnKVswXTsKICAgICAgICAgICAgICAgIHBvcHVwXzVjN2QyNjFjNDhkMTQ0MzA4ZTQzZDQxM2VhMGIzYmY0LnNldENvbnRlbnQoaHRtbF81Njc0NDVlMDBmMzY0Mjg0YWRhYTFmNjY2YzBlZGE2OSk7CiAgICAgICAgICAgIAoKICAgICAgICAgICAgbWFya2VyX2VjN2MxNjg5OTQ5MjQ3NmM4NTk4NDg4MTQ0YzIzNTc4LmJpbmRQb3B1cChwb3B1cF81YzdkMjYxYzQ4ZDE0NDMwOGU0M2Q0MTNlYTBiM2JmNCk7CgogICAgICAgICAgICAKICAgICAgICAKICAgICAgICAKICAgICAgICAgICAgCgogICAgICAgICAgICB2YXIgbWFya2VyX2E3MmM2OWEwODhkOTQyYmY4ZWNkMDA1NjE3OWFlNzkwID0gTC5tYXJrZXIoCiAgICAgICAgICAgICAgICBbNDEuNzc4MzY5LC04Ny42MzUxMTcwMDAwMDAwMV0sCiAgICAgICAgICAgICAgICB7CiAgICAgICAgICAgICAgICAgICAgaWNvbjogbmV3IEwuSWNvbi5EZWZhdWx0KCkKICAgICAgICAgICAgICAgICAgICB9CiAgICAgICAgICAgICAgICApCiAgICAgICAgICAgICAgICAuYWRkVG8obWFya2VyX2NsdXN0ZXJfODRjNGRmMWRlZDVjNDhmNWE3ODhmNzgwMTM2ZGNkZTEpOwogICAgICAgICAgICAKICAgICAgICAKICAgICAgICAgICAgCiAgICAgICAgICAgIHZhciBwb3B1cF85MGI3M2Y1NWU4Y2Y0YTA4YjcwMjUzNTJlZTIyYjA2NCA9IEwucG9wdXAoe21heFdpZHRoOiAnMzAwJ30pOwoKICAgICAgICAgICAgCiAgICAgICAgICAgICAgICB2YXIgaHRtbF83MTI3ZDQ0MjRjMGE0YTAxODM0MGU1Mzg1MzkyODhlNiA9ICQoJyAgICAgICAgIDxkaXYgaWQ9Imh0bWxfNzEyN2Q0NDI0YzBhNGEwMTgzNDBlNTM4NTM5Mjg4ZTYiICAgICAgICAgICAgICAgICBzdHlsZT0id2lkdGg6IDEwMC4wJTsgaGVpZ2h0OiAxMDAuMCU7Ij4gICAgICAgICAgICAgICAgIDQwMDEwNjogNDAwMTA2PC9kaXY+ICAgICAgICAgICAgICAgICAnKVswXTsKICAgICAgICAgICAgICAgIHBvcHVwXzkwYjczZjU1ZThjZjRhMDhiNzAyNTM1MmVlMjJiMDY0LnNldENvbnRlbnQoaHRtbF83MTI3ZDQ0MjRjMGE0YTAxODM0MGU1Mzg1MzkyODhlNik7CiAgICAgICAgICAgIAoKICAgICAgICAgICAgbWFya2VyX2E3MmM2OWEwODhkOTQyYmY4ZWNkMDA1NjE3OWFlNzkwLmJpbmRQb3B1cChwb3B1cF85MGI3M2Y1NWU4Y2Y0YTA4YjcwMjUzNTJlZTIyYjA2NCk7CgogICAgICAgICAgICAKICAgICAgICAKICAgICAgICAKICAgICAgICAKICAgICAgICA8L3NjcmlwdD4KICAgICAgICA=\" style=\"position:absolute;width:100%;height:100%;left:0;top:0;\"></iframe></div></div>"
      ],
      "text/plain": [
       "<folium.folium.Map at 0x114703390>"
      ]
     },
     "execution_count": 14,
     "metadata": {},
     "output_type": "execute_result"
    }
   ],
   "source": [
    "Top_charters = (full_HS[full_HS['Is_top_performer'] == True][full_HS['School_Type_x'] == 'Charter'])\n",
    "\n",
    "charter_schools_map = folium.Map(location=[full_HS['School_Latitude_x'].mean(), full_HS['School_Longitude_x'].mean()], zoom_start=10)\n",
    "marker_cluster = folium.MarkerCluster().add_to(charter_schools_map)\n",
    "for name, row in Top_charters.iterrows():\n",
    "    folium.Marker([row[\"School_Latitude_x\"], row[\"School_Longitude_x\"]], popup=\"{0}: {1}\".format(row[\"School_ID\"], row[\"School_ID\"])).add_to(marker_cluster)\n",
    "charter_schools_map.save('schools.html')\n",
    "charter_schools_map"
   ]
  },
  {
   "cell_type": "markdown",
   "metadata": {},
   "source": [
    "Since what motivated this project were concerns of the geographic distribution of top-performing charter schools in the Chicago Public Schools district, it would be helpful to see the geography of the district, broken into its 13 geographic networks."
   ]
  },
  {
   "cell_type": "code",
   "execution_count": 15,
   "metadata": {
    "collapsed": true
   },
   "outputs": [],
   "source": [
    "#Map showing CPS broken into regions."
   ]
  },
  {
   "cell_type": "markdown",
   "metadata": {},
   "source": [
    "## Performance and Demographic information\n",
    "\n",
    "Here are some of the findings from the 188 high schools in CPS"
   ]
  },
  {
   "cell_type": "code",
   "execution_count": 16,
   "metadata": {
    "collapsed": false
   },
   "outputs": [
    {
     "name": "stdout",
     "output_type": "stream",
     "text": [
      "\n",
      " Top performing high schools in Chicago: 47\n",
      "\n",
      " Top performing charter high schools in Chicago: 17\n"
     ]
    }
   ],
   "source": [
    "Top_HS = full_HS[full_HS['Is_top_performer'] == True]\n",
    "\n",
    "\n",
    "print (\"\\n\", \"Top performing high schools in Chicago:\", len(Top_HS))\n",
    "print (\"\\n\",\"Top performing charter high schools in Chicago:\", len(Top_charters))"
   ]
  },
  {
   "cell_type": "markdown",
   "metadata": {},
   "source": [
    "Another way to look at this data would be to plot lat and lon for each school and then color it by its performance score.  Let's first do that for all high schools in Chicago.  Again, one advantage here is that we don't have to select a threshold above which a school must be to count as a top-performer."
   ]
  },
  {
   "cell_type": "code",
   "execution_count": 17,
   "metadata": {
    "collapsed": false
   },
   "outputs": [
    {
     "data": {
      "text/plain": [
       "<matplotlib.axes._subplots.AxesSubplot at 0x1150036d8>"
      ]
     },
     "execution_count": 17,
     "metadata": {},
     "output_type": "execute_result"
    },
    {
     "data": {
      "image/png": "[encoded data removed]",
      "text/plain": [
       "<matplotlib.figure.Figure at 0x115003f28>"
      ]
     },
     "metadata": {},
     "output_type": "display_data"
    }
   ],
   "source": [
    "%matplotlib inline\n",
    "\n",
    "full_HS.plot.scatter(x='School_Longitude_x', y='School_Latitude_x', c='Total_Performance_Score')"
   ]
  },
  {
   "cell_type": "markdown",
   "metadata": {},
   "source": [
    "And now for charters only."
   ]
  },
  {
   "cell_type": "code",
   "execution_count": 18,
   "metadata": {
    "collapsed": false
   },
   "outputs": [
    {
     "data": {
      "text/plain": [
       "<matplotlib.axes._subplots.AxesSubplot at 0x11765ae10>"
      ]
     },
     "execution_count": 18,
     "metadata": {},
     "output_type": "execute_result"
    },
    {
     "data": {
      "image/png": "[encoded data removed]",
      "text/plain": [
       "<matplotlib.figure.Figure at 0x1150bad68>"
      ]
     },
     "metadata": {},
     "output_type": "display_data"
    }
   ],
   "source": [
    "full_HS[full_HS['School_Type_x'] == 'Charter'].plot.scatter(x='School_Longitude_x', y='School_Latitude_x', c='Total_Performance_Score')"
   ]
  },
  {
   "cell_type": "markdown",
   "metadata": {},
   "source": [
    "These would be more intelligible if they were colored and perhaps limited to three different categories of color corresponding to three different segments of the Total_Performance_Score variable."
   ]
  },
  {
   "cell_type": "markdown",
   "metadata": {},
   "source": [
    "Here's a histogram breaking down the frequencies of Total_Performance_Score."
   ]
  },
  {
   "cell_type": "code",
   "execution_count": 19,
   "metadata": {
    "collapsed": false
   },
   "outputs": [
    {
     "ename": "NameError",
     "evalue": "name 'plt' is not defined",
     "output_type": "error",
     "traceback": [
      "\u001b[0;31m---------------------------------------------------------------------------\u001b[0m",
      "\u001b[0;31mNameError\u001b[0m                                 Traceback (most recent call last)",
      "\u001b[0;32m<ipython-input-19-06c757f2d429>\u001b[0m in \u001b[0;36m<module>\u001b[0;34m()\u001b[0m\n\u001b[0;32m----> 1\u001b[0;31m \u001b[0mplt\u001b[0m\u001b[0;34m.\u001b[0m\u001b[0mhist\u001b[0m\u001b[0;34m(\u001b[0m\u001b[0mfull_HS\u001b[0m\u001b[0;34m[\u001b[0m\u001b[0;34m'Total_Performance_Score'\u001b[0m\u001b[0;34m]\u001b[0m\u001b[0;34m)\u001b[0m\u001b[0;34m\u001b[0m\u001b[0m\n\u001b[0m",
      "\u001b[0;31mNameError\u001b[0m: name 'plt' is not defined"
     ]
    }
   ],
   "source": [
    "plt.hist(full_HS['Total_Performance_Score'])\n"
   ]
  },
  {
   "cell_type": "markdown",
   "metadata": {},
   "source": [
    "We can look at how Total_Performance_Score correlates with a school's demographic information.\n",
    "\n",
    "Here are some useful variables for these:\n",
    "'Student_Count_Total', 'Student_Count_Low_Income', 'Student_Count_Special_Ed', 'Student_Count_English_Learners', 'Student_Count_Black', 'Student_Count_Hispanic', 'Student_Count_White', 'Student_Count_Asian', 'Student_Count_Native_American', 'Student_Count_Asian_Pacific_Islander', 'Student_Count_Hawaiian_Pacific_Islander'\n",
    "\n",
    "Since these are all counts, we'll need to divide them by Student_Count_Total to get the corresponding percentage-variables."
   ]
  },
  {
   "cell_type": "code",
   "execution_count": null,
   "metadata": {
    "collapsed": false
   },
   "outputs": [],
   "source": [
    "full_HS['Student_Count_Low_Income_Percentage'] = full['Student_Count_Low_Income']/full['Student_Count_Total']\n",
    "full_HS['Student_Count_Special_Ed_Percentage'] = full['Student_Count_Special_Ed']/full['Student_Count_Total']\n",
    "full_HS['Student_Count_English_Learners_Percentage'] = full['Student_Count_English_Learners']/full['Student_Count_Total']\n",
    "full_HS['Student_Count_Black_Percentage'] = full['Student_Count_Black']/full['Student_Count_Total']\n",
    "full_HS['Student_Count_Hispanic_Percentage'] = full['Student_Count_Hispanic']/full['Student_Count_Total']\n",
    "full_HS['Student_Count_White_Percentage'] = full['Student_Count_White']/full['Student_Count_Total']\n",
    "full_HS['Student_Count_Asian_Percentage'] = full['Student_Count_Asian']/full['Student_Count_Total']\n",
    "full_HS['Student_Count_Native_American_Percentage'] = full['Student_Count_Native_American']/full['Student_Count_Total']\n",
    "full_HS['Student_Count_Asian_Pacific_Islander_Percentage'] = full['Student_Count_Asian_Pacific_Islander']/full['Student_Count_Total']\n",
    "full_HS['Student_Count_Hawaiian_Pacific_Islander_Percentage'] = full['Student_Count_Hawaiian_Pacific_Islander']/full['Student_Count_Total']\n",
    "\n",
    "print (full_HS['Student_Count_Low_Income_Percentage'].head())\n",
    "print (full_HS['Student_Count_Special_Ed_Percentage'].head())\n",
    "print (full_HS['Student_Count_English_Learners_Percentage'].head())\n",
    "print (full_HS['Student_Count_Black_Percentage'].head())\n",
    "print (full_HS['Student_Count_Hispanic_Percentage'].head())\n",
    "print (full_HS['Student_Count_White_Percentage'].head())\n",
    "print (full_HS['Student_Count_Asian_Percentage'].head())\n",
    "print (full_HS['Student_Count_Native_American_Percentage'].head())\n",
    "print (full_HS['Student_Count_Asian_Pacific_Islander_Percentage'].head())\n",
    "print (full_HS['Student_Count_Hawaiian_Pacific_Islander_Percentage'].head())\n"
   ]
  },
  {
   "cell_type": "markdown",
   "metadata": {},
   "source": [
    "Let's do some simple plots correlating demographic info with Total_Performance_Score.  First, with low income percentages."
   ]
  },
  {
   "cell_type": "code",
   "execution_count": null,
   "metadata": {
    "collapsed": false
   },
   "outputs": [],
   "source": [
    "import matplotlib.pyplot as plt\n",
    "\n",
    "plt.plot(full_HS['Student_Count_Low_Income_Percentage'], full_HS['Total_Performance_Score'], 'ro')\n",
    "plt.axis([0, 1.5, 0, 10])\n",
    "plt.show()"
   ]
  },
  {
   "cell_type": "markdown",
   "metadata": {},
   "source": [
    "And by percentage of special education students"
   ]
  },
  {
   "cell_type": "code",
   "execution_count": null,
   "metadata": {
    "collapsed": false
   },
   "outputs": [],
   "source": [
    "plt.plot(full_HS['Student_Count_Special_Ed_Percentage'], full_HS['Total_Performance_Score'], 'ro')\n",
    "plt.axis([0, 1.5, 0, 10])\n",
    "plt.show()"
   ]
  },
  {
   "cell_type": "markdown",
   "metadata": {},
   "source": [
    "And by percentage of English language lerners."
   ]
  },
  {
   "cell_type": "code",
   "execution_count": null,
   "metadata": {
    "collapsed": false
   },
   "outputs": [],
   "source": [
    "plt.plot(full_HS['Student_Count_English_Learners_Percentage'], full_HS['Total_Performance_Score'], 'ro')\n",
    "plt.axis([0, 1.5, 0, 10])\n",
    "plt.show()"
   ]
  },
  {
   "cell_type": "markdown",
   "metadata": {},
   "source": [
    "And by percentage of Black students"
   ]
  },
  {
   "cell_type": "code",
   "execution_count": null,
   "metadata": {
    "collapsed": false,
    "scrolled": true
   },
   "outputs": [],
   "source": [
    "plt.plot(full_HS['Student_Count_Black_Percentage'], full_HS['Total_Performance_Score'], 'ro')\n",
    "plt.axis([0, 1.5, 0, 10])\n",
    "plt.show()"
   ]
  },
  {
   "cell_type": "markdown",
   "metadata": {},
   "source": [
    "And by percentage of Hispanic students"
   ]
  },
  {
   "cell_type": "code",
   "execution_count": null,
   "metadata": {
    "collapsed": false
   },
   "outputs": [],
   "source": [
    "plt.plot(full_HS['Student_Count_Hispanic_Percentage'], full_HS['Total_Performance_Score'], 'ro')\n",
    "plt.axis([0, 1.5, 0, 10])\n",
    "plt.show()"
   ]
  },
  {
   "cell_type": "markdown",
   "metadata": {},
   "source": [
    "And by percentage of White students"
   ]
  },
  {
   "cell_type": "code",
   "execution_count": null,
   "metadata": {
    "collapsed": false
   },
   "outputs": [],
   "source": [
    "plt.plot(full_HS['Student_Count_White_Percentage'], full_HS['Total_Performance_Score'], 'ro')\n",
    "plt.axis([0, 1.5, 0, 10])\n",
    "plt.show()"
   ]
  },
  {
   "cell_type": "markdown",
   "metadata": {},
   "source": [
    "And by percentage of Asian students"
   ]
  },
  {
   "cell_type": "code",
   "execution_count": null,
   "metadata": {
    "collapsed": false
   },
   "outputs": [],
   "source": [
    "plt.plot(full_HS['Student_Count_Asian_Percentage'], full_HS['Total_Performance_Score'], 'ro')\n",
    "plt.axis([0, 1.5, 0, 10])\n",
    "plt.show()"
   ]
  },
  {
   "cell_type": "markdown",
   "metadata": {},
   "source": [
    "And by percentage of Native American students"
   ]
  },
  {
   "cell_type": "code",
   "execution_count": null,
   "metadata": {
    "collapsed": false
   },
   "outputs": [],
   "source": [
    "plt.plot(full_HS['Student_Count_Native_American_Percentage'], full_HS['Total_Performance_Score'], 'ro')\n",
    "plt.axis([0, 1.5, 0, 10])\n",
    "plt.show()"
   ]
  },
  {
   "cell_type": "markdown",
   "metadata": {},
   "source": [
    "And by percentage of Asian Pacific Islander students "
   ]
  },
  {
   "cell_type": "code",
   "execution_count": null,
   "metadata": {
    "collapsed": false
   },
   "outputs": [],
   "source": [
    "plt.plot(full_HS['Student_Count_Asian_Pacific_Islander_Percentage'], full_HS['Total_Performance_Score'], 'ro')\n",
    "plt.axis([0, 1.5, 0, 10])\n",
    "plt.show()"
   ]
  },
  {
   "cell_type": "markdown",
   "metadata": {},
   "source": [
    "And by percentage of Hawaiian Pacific Islander students "
   ]
  },
  {
   "cell_type": "code",
   "execution_count": null,
   "metadata": {
    "collapsed": false
   },
   "outputs": [],
   "source": [
    "plt.plot(full_HS['Student_Count_Hawaiian_Pacific_Islander_Percentage'], full_HS['Total_Performance_Score'], 'ro')\n",
    "plt.axis([0, 1.5, 0, 10])\n",
    "plt.show()"
   ]
  },
  {
   "cell_type": "markdown",
   "metadata": {},
   "source": [
    "## Wrapping Up\n",
    "\n",
    "So, this basically wraps up the project.  We got a nice visualization of how top-performing high schools, and charter high schools are geographically distributed through the city of Chicago.  We also visualized some of the correlations between demographic information and our performance metrics.  The visualizations in addition to answering some of our questions actually lead to more questions, which, I take it, is a hallmark of good analysis."
   ]
  },
  {
   "cell_type": "code",
   "execution_count": null,
   "metadata": {
    "collapsed": true
   },
   "outputs": [],
   "source": []
  }
 ],
 "metadata": {
  "anaconda-cloud": {},
  "kernelspec": {
   "display_name": "Python [conda root]",
   "language": "python",
   "name": "conda-root-py"
  },
  "language_info": {
   "codemirror_mode": {
    "name": "ipython",
    "version": 3
   },
   "file_extension": ".py",
   "mimetype": "text/x-python",
   "name": "python",
   "nbconvert_exporter": "python",
   "pygments_lexer": "ipython3",
   "version": "3.5.2"
  }
 },
 "nbformat": 4,
 "nbformat_minor": 1
}
