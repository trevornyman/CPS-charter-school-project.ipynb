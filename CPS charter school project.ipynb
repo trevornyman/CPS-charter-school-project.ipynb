
CPS charter school project.ipynb
